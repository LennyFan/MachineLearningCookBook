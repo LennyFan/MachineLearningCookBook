{
 "cells": [
  {
   "cell_type": "markdown",
   "metadata": {},
   "source": [
    "<h1><font color=\"darkblue\">Linear Regression</font></h1>"
   ]
  },
  {
   "cell_type": "markdown",
   "metadata": {},
   "source": [
    "### Sample  \n",
    "\n",
    "- $\\displaystyle \\big\\{(y_i,x_i)\\big\\}_{i=1}^N $\n",
    "\n",
    "\n",
    "\n",
    "### Assumption\n",
    "\n",
    "\n",
    "- $ y_i \\sim N( \\; f(x_i) \\; , \\sigma^2 ) $\n",
    "\n",
    "\n",
    "- $f(x_i) = \\beta_0 + \\beta_1 x_i$ is a linear function\n",
    "\n",
    "\n",
    "- ##### GM Condition\n",
    "\n",
    "> $$ y = wx + \\epsilon \\;\\;\\mbox{ and } \\;\\;\\epsilon \\sim N(0,\\sigma^2) $$\n",
    ">\n",
    "> Thus $$ y \\sim N(wx, \\sigma^2) $$\n",
    "\n",
    "\n",
    "\n",
    "\n",
    "### Maximum Likelihood & Loss Function\n",
    "\n",
    "- Likelihood : $$ p(y|x ; w) = {1\\over \\sqrt{2\\pi} \\sigma} \\exp( -{ (y-wx)^2 \\over 2\\sigma^2 } ) $$\n",
    "\n",
    "> ##### 『 To maximize the likelihood function above, which is same as to maximize the log-likelihood function. \n",
    "> #####   $\\;\\;\\;$  It give the same answer as minimizing out loss function below. 』\n",
    "\n",
    "- Loss Function :\n",
    "$$ J(\\theta) = {1\\over 2} \\sum^n_i(h_\\theta (x^{(i)}) - y^{(i)})^2 $$\n",
    "\n",
    "\n",
    "\n",
    "\n",
    "### Solution \n",
    "\n",
    "- Mathematician View : \n",
    "$$ \\theta^* = (X^TX)^{-1} X^T y $$\n",
    "\n",
    "- Software Engineer View :\n",
    "> Gradient Descent\n"
   ]
  },
  {
   "cell_type": "markdown",
   "metadata": {},
   "source": [
    "<h1><font color=\"darkblue\">Algorithm</font></h1>"
   ]
  },
  {
   "cell_type": "markdown",
   "metadata": {},
   "source": [
    "### LMS algorithm \n",
    "- For  $\\displaystyle \\big\\{(y_i,x_i)\\big\\}$ in Data :\n",
    "> - For $\\displaystyle j$ in Features :\n",
    ">>$$ \\theta_j = \\theta_j - \\alpha ( {d J(\\theta) \\over d\\theta_j } ) $$\n",
    ">> where \n",
    ">>$$ {d J(\\theta) \\over d\\theta_j } = \\sum_i^n (h_\\theta(x^{(i)}) - y^{(i)})x^{(i)}_j $$"
   ]
  }
 ],
 "metadata": {
  "kernelspec": {
   "display_name": "Python 2",
   "language": "python",
   "name": "python2"
  },
  "language_info": {
   "codemirror_mode": {
    "name": "ipython",
    "version": 2
   },
   "file_extension": ".py",
   "mimetype": "text/x-python",
   "name": "python",
   "nbconvert_exporter": "python",
   "pygments_lexer": "ipython2",
   "version": "2.7.13"
  }
 },
 "nbformat": 4,
 "nbformat_minor": 2
}
