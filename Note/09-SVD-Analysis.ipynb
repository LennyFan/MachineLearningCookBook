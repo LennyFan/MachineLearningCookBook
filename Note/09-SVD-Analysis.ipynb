{
 "cells": [
  {
   "cell_type": "markdown",
   "metadata": {},
   "source": [
    "# SVD - Singular Value Decopmosition Anslysis\n",
    "\n",
    "      matrix factorization method | Demensionality Reduction | more stable than PCA\n",
    "      \n",
    "      \n",
    "The idea is using three smaller matrix to represent any matrix $A_{nxm}$. One thing we should keep in mind is that ** it is always possible to decompose a real matrix $A$ into SVD !!**\n",
    "      \n",
    "     \n",
    "\n",
    "> - **Difination**\n",
    "\n",
    "> - **Theorem**\n",
    "\n",
    "> - **How to get singular vectors and singular values?**\n",
    "\n",
    "> - **How SVD is related to PCA?**\n",
    "\n",
    "> - **SVD v.s PCA **\n",
    "\n",
    "> - **Reference **\n",
    "\n",
    "***"
   ]
  },
  {
   "cell_type": "markdown",
   "metadata": {},
   "source": [
    "## Defination:\n",
    "\n",
    "$$ A_{mxn} = U_{mxr} \\Sigma_{rxr} (V_{nxr})^T $$\n",
    "\n",
    "Geomatrically\n",
    "\n",
    "$$ A_{mxn} = \\mbox{ (rotate)(stretch)(rotate) } $$\n",
    "\n",
    "> U(** rotattion **): Left Singular Vectors (Column Orthonomal) such that $\\;\\;\\; U^T U = I $ \n",
    "\n",
    "> $\\Sigma$(** scale **): Singular Values (diagonal non-negative matrix sorted in decreasing order)\n",
    "\n",
    "> V(** rotattion **): Right Singluar Vectors (Column Orthonomal) such that $\\;\\;\\; V^T V = I $ \n",
    "\n",
    "Again, as we mention before, ** it is always possible to decompose a real matrix $A$ into $A = U \\Sigma V^T$ ** and having unique solution for $U, \\;\\Sigma, \\; V$\n",
    "\n",
    "***\n",
    "\n",
    "## Theorem\n",
    "\n",
    "- #### $A$ is symetric, there exists $Q^T Q = I\n",
    "$ such that $A = Q^T\\Sigma Q$. ( [Further Proof](http://control.ucsd.edu/mauricio/courses/mae280a/lecture11.pdf) )\n",
    "\n",
    "    thus since $ A^TA $ and $AA^T$ are positive semidefinite matrics ( symetric )\n",
    "\n",
    "    $$ A^TA = V \\sigma^T \\sigma V^T $$\n",
    "\n",
    "    $$ AA^T = U \\sigma \\sigma^T U^T $$\n",
    "\n",
    "    are just a eigen diagonalization version of $A^TA$ and $AA^T$\n",
    "\n",
    "\n",
    "\n",
    "***\n",
    "\n",
    "## How to get  $U, \\;\\Sigma, \\; V$\n",
    "\n",
    "   1. $$ A^TA = V \\sigma^T \\sigma V^T $$\n",
    "   \n",
    "      which is an eigen problem\n",
    "   \n",
    "      $$\\therefore  \\;\\; det(A^TA - \\lambda) = 0 $$\n",
    "      \n",
    "      we can get $\\lambda$ and $V$, note that $\\lambda = \\sigma^2$ $$ $$\n",
    "      \n",
    "   2. Then we can solve\n",
    "    \n",
    "      $$ A V = U \\sigma $$ to get U"
   ]
  },
  {
   "cell_type": "markdown",
   "metadata": {},
   "source": [
    "## Why SVD is related to PCA?\n",
    "\n",
    "   $$ A = U \\Sigma V^T $$\n",
    "   \n",
    "   Since we sort the $\\Sigma$ in decreasing order, and the $U, T$ are orthonormal, it turns out that \n",
    "   \n",
    "   $$A = \n",
    "    \\left(\\begin{array}{cc} \n",
    "    | & | & |\\\\\n",
    "     u_1 & \\dots & u_r\\\\\n",
    "    | & | & | \n",
    "    \\end{array}\\right)\n",
    "    \\left(\\begin{array}{cc} \n",
    "    \\sigma_1 & 0 & 0 \\\\\n",
    "     0 & \\dots & 0\\\\\n",
    "    0 & 0 & \\sigma_r \n",
    "    \\end{array}\\right)\n",
    "    \\left(\\begin{array}{cc} \n",
    "    - & v_1 & - \\\\\n",
    "     - & \\vdots & -\\\\\n",
    "    - & v_r & -\n",
    "    \\end{array}\\right)\n",
    "$$ \n",
    "    \n",
    "   **Thus, $\\;\\; \\bar{u_1} \\; \\sigma_1 \\;  \\bar{v_1}^T$ provides the best variance/ the most information of matrix A with only using outer product of two rank 1 unit vectors times $\\sigma_1$!** Which is what we discussed before, Principle Components Analysis!\n",
    "   \n",
    "***\n",
    "\n",
    "## SVD v.s PCA\n",
    "\n",
    "   **Note that most of time, we prefer using SVD instead of PCA since SVD is numerically more stable than eigendecomposition.**"
   ]
  },
  {
   "cell_type": "markdown",
   "metadata": {},
   "source": [
    "## Reference\n",
    "\n",
    "   https://www.youtube.com/watch?v=P5mlg91as1c\n",
    "\n",
    "   https://stats.stackexchange.com/questions/134282/relationship-between-svd-and-pca-how-to-use-svd-to-perform-pca\n",
    "    \n",
    "   https://www.youtube.com/watch?v=mBcLRGuAFUk"
   ]
  },
  {
   "cell_type": "code",
   "execution_count": null,
   "metadata": {
    "collapsed": true
   },
   "outputs": [],
   "source": []
  }
 ],
 "metadata": {
  "kernelspec": {
   "display_name": "Python 2",
   "language": "python",
   "name": "python2"
  },
  "language_info": {
   "codemirror_mode": {
    "name": "ipython",
    "version": 2
   },
   "file_extension": ".py",
   "mimetype": "text/x-python",
   "name": "python",
   "nbconvert_exporter": "python",
   "pygments_lexer": "ipython2",
   "version": "2.7.13"
  }
 },
 "nbformat": 4,
 "nbformat_minor": 2
}
