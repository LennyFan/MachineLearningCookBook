{
 "cells": [
  {
   "cell_type": "markdown",
   "metadata": {},
   "source": [
    "# KNN\n",
    "\n",
    "- Pros\n",
    "\n",
    "> Simple\n",
    "\n",
    ">- training is trivial\n",
    "\n",
    "> Few Parameters \n",
    "\n",
    "> - (k, distance)\n",
    "\n",
    "- Cons\n",
    "\n",
    "> High Prediction Cost\n",
    "\n",
    "> Not good with high dimensional data (throw off ability to measure distance)\n",
    "\n",
    "> catogorical features won't work well\n",
    "\n",
    "- **Need to Standardize the Variables**\n",
    "\n",
    "Because the KNN classifier predicts the class of a given test observation by identifying the observations that are nearest to it, the scale of the variables matters. Any variables that are on a large scale will have a much larger effect on the distance between the observations, and hence on the KNN classifier, than variables that are on a small scale."
   ]
  },
  {
   "cell_type": "code",
   "execution_count": null,
   "metadata": {
    "collapsed": true
   },
   "outputs": [],
   "source": []
  }
 ],
 "metadata": {
  "kernelspec": {
   "display_name": "Python 2",
   "language": "python",
   "name": "python2"
  },
  "language_info": {
   "codemirror_mode": {
    "name": "ipython",
    "version": 2
   },
   "file_extension": ".py",
   "mimetype": "text/x-python",
   "name": "python",
   "nbconvert_exporter": "python",
   "pygments_lexer": "ipython2",
   "version": "2.7.13"
  }
 },
 "nbformat": 4,
 "nbformat_minor": 2
}
