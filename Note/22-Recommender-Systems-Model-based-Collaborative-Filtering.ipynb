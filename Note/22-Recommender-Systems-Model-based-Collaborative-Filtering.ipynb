{
 "cells": [
  {
   "cell_type": "markdown",
   "metadata": {},
   "source": [
    "# Recommender Systems\n",
    "\n",
    "        Book: Recomender Systems by Jannach and Zanker\n",
    "        \n",
    "        > Linear Algebra\n",
    "***\n",
    "        \n",
    "## Two Most Common Type of Recommender System\n",
    "\n",
    "- ** Content-Based **\n",
    "\n",
    "    Focusing on the attributes of the items and recommending ** based on the similarity between items ** ( ex. based on similar items )\n",
    "\n",
    "\n",
    "- ** Collaborative Filtering (CF) **\n",
    "\n",
    "    ** Based on the knowledge of users' attitude to items** , which means it uses the \"wisdom of crowd\" to recommend the items ( ex. based on others shopping experience )\n",
    "    \n",
    "    > can be divided into ** Memory-Based Collaborative Filtering** and ** Model-Based Colaborative filtering**.\n",
    "    \n",
    "    \n",
    "- **Hybrid Recommender Systems** \n",
    "\n",
    "    Combine Content-Based Model and Collaborative Filtering Model\n",
    "***"
   ]
  },
  {
   "cell_type": "markdown",
   "metadata": {},
   "source": [
    "## explicit feedback model/ implicit feedback model\n",
    "\n",
    "Most recommendation models consist of building a user-by-item matrix (pivot table). If the entries value is the **numerical ratings that users give items, then this is called an explicit feedback model**. Alternatively, **one may include implicit feedback which are actions by a user that signify a positive or negative preference** for a given item (such as viewing the item online). \n",
    "\n",
    "> These two scenarios often must be treated differently."
   ]
  },
  {
   "cell_type": "code",
   "execution_count": 4,
   "metadata": {
    "collapsed": true
   },
   "outputs": [],
   "source": [
    "import numpy as np\n",
    "import pandas as pd\n",
    "import matplotlib.pyplot as plt\n",
    "%matplotlib inline"
   ]
  },
  {
   "cell_type": "code",
   "execution_count": 5,
   "metadata": {
    "collapsed": false
   },
   "outputs": [
    {
     "data": {
      "text/html": [
       "<div>\n",
       "<style scoped>\n",
       "    .dataframe tbody tr th:only-of-type {\n",
       "        vertical-align: middle;\n",
       "    }\n",
       "\n",
       "    .dataframe tbody tr th {\n",
       "        vertical-align: top;\n",
       "    }\n",
       "\n",
       "    .dataframe thead th {\n",
       "        text-align: right;\n",
       "    }\n",
       "</style>\n",
       "<table border=\"1\" class=\"dataframe\">\n",
       "  <thead>\n",
       "    <tr style=\"text-align: right;\">\n",
       "      <th></th>\n",
       "      <th>item_id</th>\n",
       "      <th>title</th>\n",
       "    </tr>\n",
       "  </thead>\n",
       "  <tbody>\n",
       "    <tr>\n",
       "      <th>0</th>\n",
       "      <td>1</td>\n",
       "      <td>Toy Story (1995)</td>\n",
       "    </tr>\n",
       "    <tr>\n",
       "      <th>1</th>\n",
       "      <td>2</td>\n",
       "      <td>GoldenEye (1995)</td>\n",
       "    </tr>\n",
       "    <tr>\n",
       "      <th>2</th>\n",
       "      <td>3</td>\n",
       "      <td>Four Rooms (1995)</td>\n",
       "    </tr>\n",
       "    <tr>\n",
       "      <th>3</th>\n",
       "      <td>4</td>\n",
       "      <td>Get Shorty (1995)</td>\n",
       "    </tr>\n",
       "    <tr>\n",
       "      <th>4</th>\n",
       "      <td>5</td>\n",
       "      <td>Copycat (1995)</td>\n",
       "    </tr>\n",
       "  </tbody>\n",
       "</table>\n",
       "</div>"
      ],
      "text/plain": [
       "   item_id              title\n",
       "0        1   Toy Story (1995)\n",
       "1        2   GoldenEye (1995)\n",
       "2        3  Four Rooms (1995)\n",
       "3        4  Get Shorty (1995)\n",
       "4        5     Copycat (1995)"
      ]
     },
     "execution_count": 5,
     "metadata": {},
     "output_type": "execute_result"
    }
   ],
   "source": [
    "column_names = ['user_id', 'item_id', 'rating', 'timestamp']\n",
    "df = pd.read_csv('u.data', sep='\\t', names=column_names)\n",
    "movie_titles = pd.read_csv(\"Movie_Id_Titles\")\n",
    "movie_titles.head()"
   ]
  },
  {
   "cell_type": "code",
   "execution_count": 6,
   "metadata": {
    "collapsed": false
   },
   "outputs": [
    {
     "data": {
      "text/html": [
       "<div>\n",
       "<style scoped>\n",
       "    .dataframe tbody tr th:only-of-type {\n",
       "        vertical-align: middle;\n",
       "    }\n",
       "\n",
       "    .dataframe tbody tr th {\n",
       "        vertical-align: top;\n",
       "    }\n",
       "\n",
       "    .dataframe thead th {\n",
       "        text-align: right;\n",
       "    }\n",
       "</style>\n",
       "<table border=\"1\" class=\"dataframe\">\n",
       "  <thead>\n",
       "    <tr style=\"text-align: right;\">\n",
       "      <th></th>\n",
       "      <th>user_id</th>\n",
       "      <th>item_id</th>\n",
       "      <th>rating</th>\n",
       "      <th>timestamp</th>\n",
       "      <th>title</th>\n",
       "    </tr>\n",
       "  </thead>\n",
       "  <tbody>\n",
       "    <tr>\n",
       "      <th>0</th>\n",
       "      <td>0</td>\n",
       "      <td>50</td>\n",
       "      <td>5</td>\n",
       "      <td>881250949</td>\n",
       "      <td>Star Wars (1977)</td>\n",
       "    </tr>\n",
       "    <tr>\n",
       "      <th>1</th>\n",
       "      <td>290</td>\n",
       "      <td>50</td>\n",
       "      <td>5</td>\n",
       "      <td>880473582</td>\n",
       "      <td>Star Wars (1977)</td>\n",
       "    </tr>\n",
       "    <tr>\n",
       "      <th>2</th>\n",
       "      <td>79</td>\n",
       "      <td>50</td>\n",
       "      <td>4</td>\n",
       "      <td>891271545</td>\n",
       "      <td>Star Wars (1977)</td>\n",
       "    </tr>\n",
       "    <tr>\n",
       "      <th>3</th>\n",
       "      <td>2</td>\n",
       "      <td>50</td>\n",
       "      <td>5</td>\n",
       "      <td>888552084</td>\n",
       "      <td>Star Wars (1977)</td>\n",
       "    </tr>\n",
       "    <tr>\n",
       "      <th>4</th>\n",
       "      <td>8</td>\n",
       "      <td>50</td>\n",
       "      <td>5</td>\n",
       "      <td>879362124</td>\n",
       "      <td>Star Wars (1977)</td>\n",
       "    </tr>\n",
       "  </tbody>\n",
       "</table>\n",
       "</div>"
      ],
      "text/plain": [
       "   user_id  item_id  rating  timestamp             title\n",
       "0        0       50       5  881250949  Star Wars (1977)\n",
       "1      290       50       5  880473582  Star Wars (1977)\n",
       "2       79       50       4  891271545  Star Wars (1977)\n",
       "3        2       50       5  888552084  Star Wars (1977)\n",
       "4        8       50       5  879362124  Star Wars (1977)"
      ]
     },
     "execution_count": 6,
     "metadata": {},
     "output_type": "execute_result"
    }
   ],
   "source": [
    "df = pd.merge(df,movie_titles,on='item_id')\n",
    "df.head()"
   ]
  },
  {
   "cell_type": "code",
   "execution_count": 7,
   "metadata": {
    "collapsed": false
   },
   "outputs": [
    {
     "name": "stdout",
     "output_type": "stream",
     "text": [
      "Num. of Users: 944\n",
      "Num of Movies: 1682\n"
     ]
    }
   ],
   "source": [
    "n_users = df.user_id.nunique()\n",
    "n_items = df.item_id.nunique()\n",
    "\n",
    "print('Num. of Users: '+ str(n_users))\n",
    "print('Num of Movies: '+str(n_items))"
   ]
  },
  {
   "cell_type": "markdown",
   "metadata": {},
   "source": [
    "- ## Preprocess/ Clean Data"
   ]
  },
  {
   "cell_type": "code",
   "execution_count": 8,
   "metadata": {
    "collapsed": false
   },
   "outputs": [
    {
     "data": {
      "text/plain": [
       "(1682, 1664)"
      ]
     },
     "execution_count": 8,
     "metadata": {},
     "output_type": "execute_result"
    }
   ],
   "source": [
    "df.item_id.nunique(), df.title.nunique()"
   ]
  },
  {
   "cell_type": "code",
   "execution_count": 9,
   "metadata": {
    "collapsed": false
   },
   "outputs": [
    {
     "data": {
      "text/plain": [
       "title\n",
       "Body Snatchers (1993)             2\n",
       "Butcher Boy, The (1998)           2\n",
       "Chairman of the Board (1998)      2\n",
       "Chasing Amy (1997)                2\n",
       "Deceiver (1997)                   2\n",
       "Designated Mourner, The (1997)    2\n",
       "Desperate Measures (1998)         2\n",
       "Fly Away Home (1996)              2\n",
       "Hugo Pool (1997)                  2\n",
       "Hurricane Streets (1998)          2\n",
       "Ice Storm, The (1997)             2\n",
       "Kull the Conqueror (1997)         2\n",
       "Money Talks (1997)                2\n",
       "Nightwatch (1997)                 2\n",
       "Sliding Doors (1998)              2\n",
       "Substance of Fire, The (1996)     2\n",
       "That Darn Cat! (1997)             2\n",
       "Ulee's Gold (1997)                2\n",
       "Name: item_id, dtype: int64"
      ]
     },
     "execution_count": 9,
     "metadata": {},
     "output_type": "execute_result"
    }
   ],
   "source": [
    "check_unique = df.groupby(\"title\").item_id.nunique()\n",
    "check_unique[check_unique > 1]"
   ]
  },
  {
   "cell_type": "markdown",
   "metadata": {},
   "source": [
    "    id is not unique, we would like to clean id...."
   ]
  },
  {
   "cell_type": "code",
   "execution_count": 10,
   "metadata": {
    "collapsed": false,
    "scrolled": false
   },
   "outputs": [],
   "source": [
    "check_unique = pd.DataFrame(check_unique[check_unique > 1])\n",
    "#check_unique.join(df.set_index(\"title\"),how = \"left\")\n",
    "check_unique[\"count\"] = check_unique\n",
    "check_unique.drop(\"item_id\",inplace=True,axis = 1)"
   ]
  },
  {
   "cell_type": "code",
   "execution_count": 11,
   "metadata": {
    "collapsed": false
   },
   "outputs": [
    {
     "data": {
      "text/html": [
       "<div>\n",
       "<style scoped>\n",
       "    .dataframe tbody tr th:only-of-type {\n",
       "        vertical-align: middle;\n",
       "    }\n",
       "\n",
       "    .dataframe tbody tr th {\n",
       "        vertical-align: top;\n",
       "    }\n",
       "\n",
       "    .dataframe thead th {\n",
       "        text-align: right;\n",
       "    }\n",
       "</style>\n",
       "<table border=\"1\" class=\"dataframe\">\n",
       "  <thead>\n",
       "    <tr style=\"text-align: right;\">\n",
       "      <th></th>\n",
       "      <th></th>\n",
       "      <th>count</th>\n",
       "      <th>mean</th>\n",
       "      <th>std</th>\n",
       "      <th>min</th>\n",
       "      <th>25%</th>\n",
       "      <th>50%</th>\n",
       "      <th>75%</th>\n",
       "      <th>max</th>\n",
       "    </tr>\n",
       "    <tr>\n",
       "      <th>title</th>\n",
       "      <th>item_id</th>\n",
       "      <th></th>\n",
       "      <th></th>\n",
       "      <th></th>\n",
       "      <th></th>\n",
       "      <th></th>\n",
       "      <th></th>\n",
       "      <th></th>\n",
       "      <th></th>\n",
       "    </tr>\n",
       "  </thead>\n",
       "  <tbody>\n",
       "    <tr>\n",
       "      <th rowspan=\"2\" valign=\"top\">Body Snatchers (1993)</th>\n",
       "      <th>573</th>\n",
       "      <td>33.0</td>\n",
       "      <td>573.0</td>\n",
       "      <td>0.0</td>\n",
       "      <td>573.0</td>\n",
       "      <td>573.0</td>\n",
       "      <td>573.0</td>\n",
       "      <td>573.0</td>\n",
       "      <td>573.0</td>\n",
       "    </tr>\n",
       "    <tr>\n",
       "      <th>670</th>\n",
       "      <td>36.0</td>\n",
       "      <td>670.0</td>\n",
       "      <td>0.0</td>\n",
       "      <td>670.0</td>\n",
       "      <td>670.0</td>\n",
       "      <td>670.0</td>\n",
       "      <td>670.0</td>\n",
       "      <td>670.0</td>\n",
       "    </tr>\n",
       "    <tr>\n",
       "      <th rowspan=\"2\" valign=\"top\">Butcher Boy, The (1998)</th>\n",
       "      <th>1645</th>\n",
       "      <td>1.0</td>\n",
       "      <td>1645.0</td>\n",
       "      <td>NaN</td>\n",
       "      <td>1645.0</td>\n",
       "      <td>1645.0</td>\n",
       "      <td>1645.0</td>\n",
       "      <td>1645.0</td>\n",
       "      <td>1645.0</td>\n",
       "    </tr>\n",
       "    <tr>\n",
       "      <th>1650</th>\n",
       "      <td>1.0</td>\n",
       "      <td>1650.0</td>\n",
       "      <td>NaN</td>\n",
       "      <td>1650.0</td>\n",
       "      <td>1650.0</td>\n",
       "      <td>1650.0</td>\n",
       "      <td>1650.0</td>\n",
       "      <td>1650.0</td>\n",
       "    </tr>\n",
       "    <tr>\n",
       "      <th rowspan=\"2\" valign=\"top\">Chairman of the Board (1998)</th>\n",
       "      <th>1234</th>\n",
       "      <td>8.0</td>\n",
       "      <td>1234.0</td>\n",
       "      <td>0.0</td>\n",
       "      <td>1234.0</td>\n",
       "      <td>1234.0</td>\n",
       "      <td>1234.0</td>\n",
       "      <td>1234.0</td>\n",
       "      <td>1234.0</td>\n",
       "    </tr>\n",
       "    <tr>\n",
       "      <th>1654</th>\n",
       "      <td>1.0</td>\n",
       "      <td>1654.0</td>\n",
       "      <td>NaN</td>\n",
       "      <td>1654.0</td>\n",
       "      <td>1654.0</td>\n",
       "      <td>1654.0</td>\n",
       "      <td>1654.0</td>\n",
       "      <td>1654.0</td>\n",
       "    </tr>\n",
       "    <tr>\n",
       "      <th rowspan=\"2\" valign=\"top\">Chasing Amy (1997)</th>\n",
       "      <th>246</th>\n",
       "      <td>124.0</td>\n",
       "      <td>246.0</td>\n",
       "      <td>0.0</td>\n",
       "      <td>246.0</td>\n",
       "      <td>246.0</td>\n",
       "      <td>246.0</td>\n",
       "      <td>246.0</td>\n",
       "      <td>246.0</td>\n",
       "    </tr>\n",
       "    <tr>\n",
       "      <th>268</th>\n",
       "      <td>255.0</td>\n",
       "      <td>268.0</td>\n",
       "      <td>0.0</td>\n",
       "      <td>268.0</td>\n",
       "      <td>268.0</td>\n",
       "      <td>268.0</td>\n",
       "      <td>268.0</td>\n",
       "      <td>268.0</td>\n",
       "    </tr>\n",
       "    <tr>\n",
       "      <th rowspan=\"2\" valign=\"top\">Deceiver (1997)</th>\n",
       "      <th>309</th>\n",
       "      <td>28.0</td>\n",
       "      <td>309.0</td>\n",
       "      <td>0.0</td>\n",
       "      <td>309.0</td>\n",
       "      <td>309.0</td>\n",
       "      <td>309.0</td>\n",
       "      <td>309.0</td>\n",
       "      <td>309.0</td>\n",
       "    </tr>\n",
       "    <tr>\n",
       "      <th>1606</th>\n",
       "      <td>1.0</td>\n",
       "      <td>1606.0</td>\n",
       "      <td>NaN</td>\n",
       "      <td>1606.0</td>\n",
       "      <td>1606.0</td>\n",
       "      <td>1606.0</td>\n",
       "      <td>1606.0</td>\n",
       "      <td>1606.0</td>\n",
       "    </tr>\n",
       "    <tr>\n",
       "      <th rowspan=\"2\" valign=\"top\">Designated Mourner, The (1997)</th>\n",
       "      <th>1256</th>\n",
       "      <td>3.0</td>\n",
       "      <td>1256.0</td>\n",
       "      <td>0.0</td>\n",
       "      <td>1256.0</td>\n",
       "      <td>1256.0</td>\n",
       "      <td>1256.0</td>\n",
       "      <td>1256.0</td>\n",
       "      <td>1256.0</td>\n",
       "    </tr>\n",
       "    <tr>\n",
       "      <th>1257</th>\n",
       "      <td>4.0</td>\n",
       "      <td>1257.0</td>\n",
       "      <td>0.0</td>\n",
       "      <td>1257.0</td>\n",
       "      <td>1257.0</td>\n",
       "      <td>1257.0</td>\n",
       "      <td>1257.0</td>\n",
       "      <td>1257.0</td>\n",
       "    </tr>\n",
       "    <tr>\n",
       "      <th rowspan=\"2\" valign=\"top\">Desperate Measures (1998)</th>\n",
       "      <th>329</th>\n",
       "      <td>45.0</td>\n",
       "      <td>329.0</td>\n",
       "      <td>0.0</td>\n",
       "      <td>329.0</td>\n",
       "      <td>329.0</td>\n",
       "      <td>329.0</td>\n",
       "      <td>329.0</td>\n",
       "      <td>329.0</td>\n",
       "    </tr>\n",
       "    <tr>\n",
       "      <th>348</th>\n",
       "      <td>27.0</td>\n",
       "      <td>348.0</td>\n",
       "      <td>0.0</td>\n",
       "      <td>348.0</td>\n",
       "      <td>348.0</td>\n",
       "      <td>348.0</td>\n",
       "      <td>348.0</td>\n",
       "      <td>348.0</td>\n",
       "    </tr>\n",
       "    <tr>\n",
       "      <th rowspan=\"2\" valign=\"top\">Fly Away Home (1996)</th>\n",
       "      <th>304</th>\n",
       "      <td>149.0</td>\n",
       "      <td>304.0</td>\n",
       "      <td>0.0</td>\n",
       "      <td>304.0</td>\n",
       "      <td>304.0</td>\n",
       "      <td>304.0</td>\n",
       "      <td>304.0</td>\n",
       "      <td>304.0</td>\n",
       "    </tr>\n",
       "    <tr>\n",
       "      <th>500</th>\n",
       "      <td>31.0</td>\n",
       "      <td>500.0</td>\n",
       "      <td>0.0</td>\n",
       "      <td>500.0</td>\n",
       "      <td>500.0</td>\n",
       "      <td>500.0</td>\n",
       "      <td>500.0</td>\n",
       "      <td>500.0</td>\n",
       "    </tr>\n",
       "    <tr>\n",
       "      <th rowspan=\"2\" valign=\"top\">Hugo Pool (1997)</th>\n",
       "      <th>1175</th>\n",
       "      <td>5.0</td>\n",
       "      <td>1175.0</td>\n",
       "      <td>0.0</td>\n",
       "      <td>1175.0</td>\n",
       "      <td>1175.0</td>\n",
       "      <td>1175.0</td>\n",
       "      <td>1175.0</td>\n",
       "      <td>1175.0</td>\n",
       "    </tr>\n",
       "    <tr>\n",
       "      <th>1617</th>\n",
       "      <td>2.0</td>\n",
       "      <td>1617.0</td>\n",
       "      <td>0.0</td>\n",
       "      <td>1617.0</td>\n",
       "      <td>1617.0</td>\n",
       "      <td>1617.0</td>\n",
       "      <td>1617.0</td>\n",
       "      <td>1617.0</td>\n",
       "    </tr>\n",
       "    <tr>\n",
       "      <th rowspan=\"2\" valign=\"top\">Hurricane Streets (1998)</th>\n",
       "      <th>1395</th>\n",
       "      <td>6.0</td>\n",
       "      <td>1395.0</td>\n",
       "      <td>0.0</td>\n",
       "      <td>1395.0</td>\n",
       "      <td>1395.0</td>\n",
       "      <td>1395.0</td>\n",
       "      <td>1395.0</td>\n",
       "      <td>1395.0</td>\n",
       "    </tr>\n",
       "    <tr>\n",
       "      <th>1607</th>\n",
       "      <td>3.0</td>\n",
       "      <td>1607.0</td>\n",
       "      <td>0.0</td>\n",
       "      <td>1607.0</td>\n",
       "      <td>1607.0</td>\n",
       "      <td>1607.0</td>\n",
       "      <td>1607.0</td>\n",
       "      <td>1607.0</td>\n",
       "    </tr>\n",
       "    <tr>\n",
       "      <th rowspan=\"2\" valign=\"top\">Ice Storm, The (1997)</th>\n",
       "      <th>305</th>\n",
       "      <td>87.0</td>\n",
       "      <td>305.0</td>\n",
       "      <td>0.0</td>\n",
       "      <td>305.0</td>\n",
       "      <td>305.0</td>\n",
       "      <td>305.0</td>\n",
       "      <td>305.0</td>\n",
       "      <td>305.0</td>\n",
       "    </tr>\n",
       "    <tr>\n",
       "      <th>865</th>\n",
       "      <td>21.0</td>\n",
       "      <td>865.0</td>\n",
       "      <td>0.0</td>\n",
       "      <td>865.0</td>\n",
       "      <td>865.0</td>\n",
       "      <td>865.0</td>\n",
       "      <td>865.0</td>\n",
       "      <td>865.0</td>\n",
       "    </tr>\n",
       "    <tr>\n",
       "      <th rowspan=\"2\" valign=\"top\">Kull the Conqueror (1997)</th>\n",
       "      <th>266</th>\n",
       "      <td>35.0</td>\n",
       "      <td>266.0</td>\n",
       "      <td>0.0</td>\n",
       "      <td>266.0</td>\n",
       "      <td>266.0</td>\n",
       "      <td>266.0</td>\n",
       "      <td>266.0</td>\n",
       "      <td>266.0</td>\n",
       "    </tr>\n",
       "    <tr>\n",
       "      <th>680</th>\n",
       "      <td>34.0</td>\n",
       "      <td>680.0</td>\n",
       "      <td>0.0</td>\n",
       "      <td>680.0</td>\n",
       "      <td>680.0</td>\n",
       "      <td>680.0</td>\n",
       "      <td>680.0</td>\n",
       "      <td>680.0</td>\n",
       "    </tr>\n",
       "    <tr>\n",
       "      <th rowspan=\"2\" valign=\"top\">Money Talks (1997)</th>\n",
       "      <th>876</th>\n",
       "      <td>47.0</td>\n",
       "      <td>876.0</td>\n",
       "      <td>0.0</td>\n",
       "      <td>876.0</td>\n",
       "      <td>876.0</td>\n",
       "      <td>876.0</td>\n",
       "      <td>876.0</td>\n",
       "      <td>876.0</td>\n",
       "    </tr>\n",
       "    <tr>\n",
       "      <th>881</th>\n",
       "      <td>45.0</td>\n",
       "      <td>881.0</td>\n",
       "      <td>0.0</td>\n",
       "      <td>881.0</td>\n",
       "      <td>881.0</td>\n",
       "      <td>881.0</td>\n",
       "      <td>881.0</td>\n",
       "      <td>881.0</td>\n",
       "    </tr>\n",
       "    <tr>\n",
       "      <th rowspan=\"2\" valign=\"top\">Nightwatch (1997)</th>\n",
       "      <th>1477</th>\n",
       "      <td>2.0</td>\n",
       "      <td>1477.0</td>\n",
       "      <td>0.0</td>\n",
       "      <td>1477.0</td>\n",
       "      <td>1477.0</td>\n",
       "      <td>1477.0</td>\n",
       "      <td>1477.0</td>\n",
       "      <td>1477.0</td>\n",
       "    </tr>\n",
       "    <tr>\n",
       "      <th>1625</th>\n",
       "      <td>1.0</td>\n",
       "      <td>1625.0</td>\n",
       "      <td>NaN</td>\n",
       "      <td>1625.0</td>\n",
       "      <td>1625.0</td>\n",
       "      <td>1625.0</td>\n",
       "      <td>1625.0</td>\n",
       "      <td>1625.0</td>\n",
       "    </tr>\n",
       "    <tr>\n",
       "      <th rowspan=\"2\" valign=\"top\">Sliding Doors (1998)</th>\n",
       "      <th>1429</th>\n",
       "      <td>4.0</td>\n",
       "      <td>1429.0</td>\n",
       "      <td>0.0</td>\n",
       "      <td>1429.0</td>\n",
       "      <td>1429.0</td>\n",
       "      <td>1429.0</td>\n",
       "      <td>1429.0</td>\n",
       "      <td>1429.0</td>\n",
       "    </tr>\n",
       "    <tr>\n",
       "      <th>1680</th>\n",
       "      <td>1.0</td>\n",
       "      <td>1680.0</td>\n",
       "      <td>NaN</td>\n",
       "      <td>1680.0</td>\n",
       "      <td>1680.0</td>\n",
       "      <td>1680.0</td>\n",
       "      <td>1680.0</td>\n",
       "      <td>1680.0</td>\n",
       "    </tr>\n",
       "    <tr>\n",
       "      <th rowspan=\"2\" valign=\"top\">Substance of Fire, The (1996)</th>\n",
       "      <th>711</th>\n",
       "      <td>1.0</td>\n",
       "      <td>711.0</td>\n",
       "      <td>NaN</td>\n",
       "      <td>711.0</td>\n",
       "      <td>711.0</td>\n",
       "      <td>711.0</td>\n",
       "      <td>711.0</td>\n",
       "      <td>711.0</td>\n",
       "    </tr>\n",
       "    <tr>\n",
       "      <th>1658</th>\n",
       "      <td>3.0</td>\n",
       "      <td>1658.0</td>\n",
       "      <td>0.0</td>\n",
       "      <td>1658.0</td>\n",
       "      <td>1658.0</td>\n",
       "      <td>1658.0</td>\n",
       "      <td>1658.0</td>\n",
       "      <td>1658.0</td>\n",
       "    </tr>\n",
       "    <tr>\n",
       "      <th rowspan=\"2\" valign=\"top\">That Darn Cat! (1997)</th>\n",
       "      <th>878</th>\n",
       "      <td>33.0</td>\n",
       "      <td>878.0</td>\n",
       "      <td>0.0</td>\n",
       "      <td>878.0</td>\n",
       "      <td>878.0</td>\n",
       "      <td>878.0</td>\n",
       "      <td>878.0</td>\n",
       "      <td>878.0</td>\n",
       "    </tr>\n",
       "    <tr>\n",
       "      <th>1003</th>\n",
       "      <td>8.0</td>\n",
       "      <td>1003.0</td>\n",
       "      <td>0.0</td>\n",
       "      <td>1003.0</td>\n",
       "      <td>1003.0</td>\n",
       "      <td>1003.0</td>\n",
       "      <td>1003.0</td>\n",
       "      <td>1003.0</td>\n",
       "    </tr>\n",
       "    <tr>\n",
       "      <th rowspan=\"2\" valign=\"top\">Ulee's Gold (1997)</th>\n",
       "      <th>297</th>\n",
       "      <td>50.0</td>\n",
       "      <td>297.0</td>\n",
       "      <td>0.0</td>\n",
       "      <td>297.0</td>\n",
       "      <td>297.0</td>\n",
       "      <td>297.0</td>\n",
       "      <td>297.0</td>\n",
       "      <td>297.0</td>\n",
       "    </tr>\n",
       "    <tr>\n",
       "      <th>303</th>\n",
       "      <td>134.0</td>\n",
       "      <td>303.0</td>\n",
       "      <td>0.0</td>\n",
       "      <td>303.0</td>\n",
       "      <td>303.0</td>\n",
       "      <td>303.0</td>\n",
       "      <td>303.0</td>\n",
       "      <td>303.0</td>\n",
       "    </tr>\n",
       "  </tbody>\n",
       "</table>\n",
       "</div>"
      ],
      "text/plain": [
       "                                        count    mean  std     min     25%  \\\n",
       "title                          item_id                                       \n",
       "Body Snatchers (1993)          573       33.0   573.0  0.0   573.0   573.0   \n",
       "                               670       36.0   670.0  0.0   670.0   670.0   \n",
       "Butcher Boy, The (1998)        1645       1.0  1645.0  NaN  1645.0  1645.0   \n",
       "                               1650       1.0  1650.0  NaN  1650.0  1650.0   \n",
       "Chairman of the Board (1998)   1234       8.0  1234.0  0.0  1234.0  1234.0   \n",
       "                               1654       1.0  1654.0  NaN  1654.0  1654.0   \n",
       "Chasing Amy (1997)             246      124.0   246.0  0.0   246.0   246.0   \n",
       "                               268      255.0   268.0  0.0   268.0   268.0   \n",
       "Deceiver (1997)                309       28.0   309.0  0.0   309.0   309.0   \n",
       "                               1606       1.0  1606.0  NaN  1606.0  1606.0   \n",
       "Designated Mourner, The (1997) 1256       3.0  1256.0  0.0  1256.0  1256.0   \n",
       "                               1257       4.0  1257.0  0.0  1257.0  1257.0   \n",
       "Desperate Measures (1998)      329       45.0   329.0  0.0   329.0   329.0   \n",
       "                               348       27.0   348.0  0.0   348.0   348.0   \n",
       "Fly Away Home (1996)           304      149.0   304.0  0.0   304.0   304.0   \n",
       "                               500       31.0   500.0  0.0   500.0   500.0   \n",
       "Hugo Pool (1997)               1175       5.0  1175.0  0.0  1175.0  1175.0   \n",
       "                               1617       2.0  1617.0  0.0  1617.0  1617.0   \n",
       "Hurricane Streets (1998)       1395       6.0  1395.0  0.0  1395.0  1395.0   \n",
       "                               1607       3.0  1607.0  0.0  1607.0  1607.0   \n",
       "Ice Storm, The (1997)          305       87.0   305.0  0.0   305.0   305.0   \n",
       "                               865       21.0   865.0  0.0   865.0   865.0   \n",
       "Kull the Conqueror (1997)      266       35.0   266.0  0.0   266.0   266.0   \n",
       "                               680       34.0   680.0  0.0   680.0   680.0   \n",
       "Money Talks (1997)             876       47.0   876.0  0.0   876.0   876.0   \n",
       "                               881       45.0   881.0  0.0   881.0   881.0   \n",
       "Nightwatch (1997)              1477       2.0  1477.0  0.0  1477.0  1477.0   \n",
       "                               1625       1.0  1625.0  NaN  1625.0  1625.0   \n",
       "Sliding Doors (1998)           1429       4.0  1429.0  0.0  1429.0  1429.0   \n",
       "                               1680       1.0  1680.0  NaN  1680.0  1680.0   \n",
       "Substance of Fire, The (1996)  711        1.0   711.0  NaN   711.0   711.0   \n",
       "                               1658       3.0  1658.0  0.0  1658.0  1658.0   \n",
       "That Darn Cat! (1997)          878       33.0   878.0  0.0   878.0   878.0   \n",
       "                               1003       8.0  1003.0  0.0  1003.0  1003.0   \n",
       "Ulee's Gold (1997)             297       50.0   297.0  0.0   297.0   297.0   \n",
       "                               303      134.0   303.0  0.0   303.0   303.0   \n",
       "\n",
       "                                           50%     75%     max  \n",
       "title                          item_id                          \n",
       "Body Snatchers (1993)          573       573.0   573.0   573.0  \n",
       "                               670       670.0   670.0   670.0  \n",
       "Butcher Boy, The (1998)        1645     1645.0  1645.0  1645.0  \n",
       "                               1650     1650.0  1650.0  1650.0  \n",
       "Chairman of the Board (1998)   1234     1234.0  1234.0  1234.0  \n",
       "                               1654     1654.0  1654.0  1654.0  \n",
       "Chasing Amy (1997)             246       246.0   246.0   246.0  \n",
       "                               268       268.0   268.0   268.0  \n",
       "Deceiver (1997)                309       309.0   309.0   309.0  \n",
       "                               1606     1606.0  1606.0  1606.0  \n",
       "Designated Mourner, The (1997) 1256     1256.0  1256.0  1256.0  \n",
       "                               1257     1257.0  1257.0  1257.0  \n",
       "Desperate Measures (1998)      329       329.0   329.0   329.0  \n",
       "                               348       348.0   348.0   348.0  \n",
       "Fly Away Home (1996)           304       304.0   304.0   304.0  \n",
       "                               500       500.0   500.0   500.0  \n",
       "Hugo Pool (1997)               1175     1175.0  1175.0  1175.0  \n",
       "                               1617     1617.0  1617.0  1617.0  \n",
       "Hurricane Streets (1998)       1395     1395.0  1395.0  1395.0  \n",
       "                               1607     1607.0  1607.0  1607.0  \n",
       "Ice Storm, The (1997)          305       305.0   305.0   305.0  \n",
       "                               865       865.0   865.0   865.0  \n",
       "Kull the Conqueror (1997)      266       266.0   266.0   266.0  \n",
       "                               680       680.0   680.0   680.0  \n",
       "Money Talks (1997)             876       876.0   876.0   876.0  \n",
       "                               881       881.0   881.0   881.0  \n",
       "Nightwatch (1997)              1477     1477.0  1477.0  1477.0  \n",
       "                               1625     1625.0  1625.0  1625.0  \n",
       "Sliding Doors (1998)           1429     1429.0  1429.0  1429.0  \n",
       "                               1680     1680.0  1680.0  1680.0  \n",
       "Substance of Fire, The (1996)  711       711.0   711.0   711.0  \n",
       "                               1658     1658.0  1658.0  1658.0  \n",
       "That Darn Cat! (1997)          878       878.0   878.0   878.0  \n",
       "                               1003     1003.0  1003.0  1003.0  \n",
       "Ulee's Gold (1997)             297       297.0   297.0   297.0  \n",
       "                               303       303.0   303.0   303.0  "
      ]
     },
     "execution_count": 11,
     "metadata": {},
     "output_type": "execute_result"
    }
   ],
   "source": [
    "check_unique.join(df.set_index(\"title\").item_id,how = \"left\").groupby([\"title\",\"item_id\"]).item_id.describe()"
   ]
  },
  {
   "cell_type": "markdown",
   "metadata": {},
   "source": [
    "       above movies all has two id lol..."
   ]
  },
  {
   "cell_type": "code",
   "execution_count": 12,
   "metadata": {
    "collapsed": false
   },
   "outputs": [],
   "source": [
    "# reformat id\n",
    "new_movie_index = dict((y, x) for x, y in zip(range(df.title.nunique()),df.title.unique()))"
   ]
  },
  {
   "cell_type": "code",
   "execution_count": 13,
   "metadata": {
    "collapsed": false
   },
   "outputs": [
    {
     "data": {
      "text/plain": [
       "(1664, 1664)"
      ]
     },
     "execution_count": 13,
     "metadata": {},
     "output_type": "execute_result"
    }
   ],
   "source": [
    "df.item_id = df.title.map(new_movie_index)\n",
    "df.item_id.nunique(), df.title.nunique()"
   ]
  },
  {
   "cell_type": "code",
   "execution_count": 14,
   "metadata": {
    "collapsed": false
   },
   "outputs": [
    {
     "data": {
      "text/html": [
       "<div>\n",
       "<style scoped>\n",
       "    .dataframe tbody tr th:only-of-type {\n",
       "        vertical-align: middle;\n",
       "    }\n",
       "\n",
       "    .dataframe tbody tr th {\n",
       "        vertical-align: top;\n",
       "    }\n",
       "\n",
       "    .dataframe thead th {\n",
       "        text-align: right;\n",
       "    }\n",
       "</style>\n",
       "<table border=\"1\" class=\"dataframe\">\n",
       "  <thead>\n",
       "    <tr style=\"text-align: right;\">\n",
       "      <th>item_id</th>\n",
       "      <th>0</th>\n",
       "      <th>1</th>\n",
       "      <th>2</th>\n",
       "      <th>3</th>\n",
       "      <th>4</th>\n",
       "      <th>5</th>\n",
       "      <th>6</th>\n",
       "      <th>7</th>\n",
       "      <th>8</th>\n",
       "      <th>9</th>\n",
       "      <th>...</th>\n",
       "      <th>1654</th>\n",
       "      <th>1655</th>\n",
       "      <th>1656</th>\n",
       "      <th>1657</th>\n",
       "      <th>1658</th>\n",
       "      <th>1659</th>\n",
       "      <th>1660</th>\n",
       "      <th>1661</th>\n",
       "      <th>1662</th>\n",
       "      <th>1663</th>\n",
       "    </tr>\n",
       "    <tr>\n",
       "      <th>user_id</th>\n",
       "      <th></th>\n",
       "      <th></th>\n",
       "      <th></th>\n",
       "      <th></th>\n",
       "      <th></th>\n",
       "      <th></th>\n",
       "      <th></th>\n",
       "      <th></th>\n",
       "      <th></th>\n",
       "      <th></th>\n",
       "      <th></th>\n",
       "      <th></th>\n",
       "      <th></th>\n",
       "      <th></th>\n",
       "      <th></th>\n",
       "      <th></th>\n",
       "      <th></th>\n",
       "      <th></th>\n",
       "      <th></th>\n",
       "      <th></th>\n",
       "      <th></th>\n",
       "    </tr>\n",
       "  </thead>\n",
       "  <tbody>\n",
       "    <tr>\n",
       "      <th>0</th>\n",
       "      <td>5</td>\n",
       "      <td>5</td>\n",
       "      <td>1</td>\n",
       "      <td>0</td>\n",
       "      <td>0</td>\n",
       "      <td>0</td>\n",
       "      <td>0</td>\n",
       "      <td>0</td>\n",
       "      <td>0</td>\n",
       "      <td>0</td>\n",
       "      <td>...</td>\n",
       "      <td>0</td>\n",
       "      <td>0</td>\n",
       "      <td>0</td>\n",
       "      <td>0</td>\n",
       "      <td>0</td>\n",
       "      <td>0</td>\n",
       "      <td>0</td>\n",
       "      <td>0</td>\n",
       "      <td>0</td>\n",
       "      <td>0</td>\n",
       "    </tr>\n",
       "    <tr>\n",
       "      <th>1</th>\n",
       "      <td>5</td>\n",
       "      <td>5</td>\n",
       "      <td>4</td>\n",
       "      <td>5</td>\n",
       "      <td>0</td>\n",
       "      <td>0</td>\n",
       "      <td>4</td>\n",
       "      <td>0</td>\n",
       "      <td>0</td>\n",
       "      <td>4</td>\n",
       "      <td>...</td>\n",
       "      <td>0</td>\n",
       "      <td>0</td>\n",
       "      <td>0</td>\n",
       "      <td>0</td>\n",
       "      <td>0</td>\n",
       "      <td>0</td>\n",
       "      <td>0</td>\n",
       "      <td>0</td>\n",
       "      <td>0</td>\n",
       "      <td>0</td>\n",
       "    </tr>\n",
       "  </tbody>\n",
       "</table>\n",
       "<p>2 rows × 1664 columns</p>\n",
       "</div>"
      ],
      "text/plain": [
       "item_id  0     1     2     3     4     5     6     7     8     9     ...   \\\n",
       "user_id                                                              ...    \n",
       "0           5     5     1     0     0     0     0     0     0     0  ...    \n",
       "1           5     5     4     5     0     0     4     0     0     4  ...    \n",
       "\n",
       "item_id  1654  1655  1656  1657  1658  1659  1660  1661  1662  1663  \n",
       "user_id                                                              \n",
       "0           0     0     0     0     0     0     0     0     0     0  \n",
       "1           0     0     0     0     0     0     0     0     0     0  \n",
       "\n",
       "[2 rows x 1664 columns]"
      ]
     },
     "execution_count": 14,
     "metadata": {},
     "output_type": "execute_result"
    }
   ],
   "source": [
    "# first get pivot table\n",
    "user_item_matrix = pd.pivot_table(df,\"rating\",\"user_id\",\"item_id\",fill_value=0)\n",
    "user_item_matrix.head(2)"
   ]
  },
  {
   "cell_type": "markdown",
   "metadata": {},
   "source": [
    "***\n",
    "- ## Sparsity \n",
    "\n",
    "    This means that the percentage of the user-item-matrix have a real value\n",
    "\n",
    "$$ {\\#\\mbox{ of valid entry } \\over \\# \\mbox{ of total entry } } \\times 100 \\%$$\n",
    "\n",
    "    One thing to note is that if the sparsity of the matrix is below 1% (rule of thumb), then the dataset might be too sparse to perform any sort of modeling.\n",
    "        "
   ]
  },
  {
   "cell_type": "code",
   "execution_count": 15,
   "metadata": {
    "collapsed": false
   },
   "outputs": [
    {
     "name": "stdout",
     "output_type": "stream",
     "text": [
      "6.34676499348 %\n"
     ]
    }
   ],
   "source": [
    "print 100.0*sum(user_item_matrix[user_item_matrix != 0].count())/user_item_matrix.shape[0]/user_item_matrix.shape[1] ,\"%\""
   ]
  },
  {
   "cell_type": "code",
   "execution_count": 16,
   "metadata": {
    "collapsed": false
   },
   "outputs": [
    {
     "data": {
      "text/plain": [
       "count    944.000000\n",
       "mean     105.610169\n",
       "std      100.622846\n",
       "min        3.000000\n",
       "25%       33.000000\n",
       "50%       64.000000\n",
       "75%      147.250000\n",
       "max      736.000000\n",
       "dtype: float64"
      ]
     },
     "execution_count": 16,
     "metadata": {},
     "output_type": "execute_result"
    }
   ],
   "source": [
    "user_item_matrix[user_item_matrix != 0].count(axis = 1).describe()"
   ]
  },
  {
   "cell_type": "code",
   "execution_count": 17,
   "metadata": {
    "collapsed": false
   },
   "outputs": [
    {
     "data": {
      "text/plain": [
       "(0, 50)"
      ]
     },
     "execution_count": 17,
     "metadata": {},
     "output_type": "execute_result"
    },
    {
     "data": {
      "image/png": "[encoded data removed]",
      "text/plain": [
       "<matplotlib.figure.Figure at 0x111f39150>"
      ]
     },
     "metadata": {},
     "output_type": "display_data"
    }
   ],
   "source": [
    "plt.figure(figsize=(7,4))\n",
    "user_item_matrix[user_item_matrix != 0].count(axis = 1).plot(kind = \"hist\",bins = 300)\n",
    "plt.xlim(0,50)"
   ]
  },
  {
   "cell_type": "markdown",
   "metadata": {},
   "source": [
    "   Notice that some people rated less than 10 movies, therefore we would like to remove this data which is hard for us to consider their opinion as \"useful\". In this case we would like to remomve the user in our model who rated less than 10 movies. Thus, every user has rated at least 19 movies (show below)."
   ]
  },
  {
   "cell_type": "code",
   "execution_count": 18,
   "metadata": {
    "collapsed": false
   },
   "outputs": [
    {
     "name": "stdout",
     "output_type": "stream",
     "text": [
      "[0]\n"
     ]
    }
   ],
   "source": [
    "print list(user_item_matrix[user_item_matrix[user_item_matrix != 0].count(axis = 1) <= 10].index)\n",
    "user_item_matrix = user_item_matrix[user_item_matrix[user_item_matrix != 0].count(axis = 1) > 10]"
   ]
  },
  {
   "cell_type": "code",
   "execution_count": 19,
   "metadata": {
    "collapsed": true
   },
   "outputs": [],
   "source": [
    "df = df[df.user_id != 0]"
   ]
  },
  {
   "cell_type": "code",
   "execution_count": 20,
   "metadata": {
    "collapsed": false
   },
   "outputs": [
    {
     "data": {
      "text/plain": [
       "count    943.000000\n",
       "mean     105.718982\n",
       "std      100.620656\n",
       "min       19.000000\n",
       "25%       33.000000\n",
       "50%       64.000000\n",
       "75%      147.500000\n",
       "max      736.000000\n",
       "dtype: float64"
      ]
     },
     "execution_count": 20,
     "metadata": {},
     "output_type": "execute_result"
    }
   ],
   "source": [
    "user_item_matrix[user_item_matrix != 0].count(axis = 1).describe()"
   ]
  },
  {
   "cell_type": "markdown",
   "metadata": {},
   "source": [
    "- ## Train Test Split\n",
    "    \n",
    "    Note that in this case, we have no specific predicted/responsed variables. What we want to do is using some existing entries to predict other none entries based on a specific user or item. More appropriately, we would like to randomly split our data into training and test sets by removing some exsiting ratings from the training set and placing them in the test set. \n",
    "    \n",
    "    There are two ways to do this.\n",
    "    >1.\n",
    "    \n",
    "    > we can just segement the **original data frame** into two sets of data, basically we remove some rate\n",
    "    \n",
    "    >         sklearn.cross_validation import train_test_split\n",
    "    > 2.\n",
    "    \n",
    "    > The first approach might remove all the rate from single person which is what we want to avoiding, since it will have no attiribute for us to recommand other movies for him cause we don't have any his data in training model. More appropriately, we would like to removing some ratings **per user** from the training set and placing them in the test set.\n",
    "    \n",
    "    > In this case, it's reasonble for us to removing 9 ratings per user from the training set since each user has rated at least 19 movies"
   ]
  },
  {
   "cell_type": "code",
   "execution_count": 21,
   "metadata": {
    "collapsed": false,
    "scrolled": false
   },
   "outputs": [],
   "source": [
    "#1.\n",
    "from sklearn.model_selection import train_test_split\n",
    "train_data1, test_data1 = train_test_split(df, test_size=0.25)\n",
    "\n",
    "#2.\n",
    "def train_test_split(ratings):\n",
    "    test = pd.DataFrame(np.zeros(ratings.shape), index = ratings.index, columns = ratings.columns)\n",
    "    train = ratings.copy()\n",
    "    for i in range(len(ratings.index)):\n",
    "        \n",
    "        \n",
    "        test_ratings = np.random.choice(\n",
    "                        ratings.iloc[i].nonzero()[0], # Return the 2D-indices of the elements that are non-zero\n",
    "                        size=9, \n",
    "                        replace=False) # sample without replacement\n",
    "        \n",
    "        train.iloc[i,test_ratings] = 0\n",
    "        test.iloc[i,test_ratings] = ratings.iloc[i,test_ratings]\n",
    "        \n",
    "    # Test and training are truly disjoint\n",
    "    assert(np.all((train * test) == 0)) \n",
    "    return train, test\n",
    "\n",
    "train_data2, test_data2 =train_test_split(user_item_matrix)"
   ]
  },
  {
   "cell_type": "markdown",
   "metadata": {},
   "source": [
    "# Model-based Collaborative Filtering\n",
    "\n",
    "   Model-based Collaborative Filtering is based on **matrix decomposition ** which has received greater exposure, mainly as an **unsupervised learning method** for **[hidden variable](https://www.theanalysisfactor.com/what-is-a-latent-variable/) decomposition** and **dimensionality reduction**. "
   ]
  },
  {
   "cell_type": "markdown",
   "metadata": {},
   "source": [
    "    To give an example of the learned latent preferences of the users and items: let's say for the MovieLens dataset you have the following information: (user id, age, location, gender, movie id, director, actor, language, year, rating). By applying matrix factorization the model learns that important user features are age group (under 10, 10-18, 18-30, 30-90), location and gender, and for movie features it learns that decade, director and actor are most important. Now if you look into the information you have stored, there is no such feature as the decade, but the model can learn on its own. The important aspect is that the CF model only uses data (user_id, movie_id, rating) to learn the latent features. If there is little data available model-based CF model will predict poorly, since it will be more difficult to learn the latent features.\n",
    "\n",
    "Models that use both ratings and content features are called **Hybrid Recommender Systems** where both Collaborative Filtering and Content-based Models are combined. Hybrid recommender systems usually show higher accuracy than Collaborative Filtering or Content-based Models on their own: they are capable to address the cold-start problem better since if you don't have any ratings for a user or an item you could use the metadata from the user or item to make a prediction. \n",
    "\n"
   ]
  },
  {
   "cell_type": "code",
   "execution_count": 22,
   "metadata": {
    "collapsed": false
   },
   "outputs": [
    {
     "name": "stdout",
     "output_type": "stream",
     "text": [
      "6.37 %\n"
     ]
    }
   ],
   "source": [
    "# as we clculate above\n",
    "sparsity = 1.0*len(df)/user_item_matrix.shape[0]/user_item_matrix.shape[1]\n",
    "print round(sparsity*100,2), \"%\""
   ]
  },
  {
   "cell_type": "code",
   "execution_count": 23,
   "metadata": {
    "collapsed": true
   },
   "outputs": [],
   "source": [
    "# train_data1, test_data1\n",
    "#Create two user-item matrices, one for training and another for testing\n",
    "# numpy version\n",
    "train_data_matrix1 = np.zeros((df.user_id.nunique(), df.item_id.nunique()))\n",
    "for line in train_data1.itertuples():\n",
    "    train_data_matrix1[line[1]-1, line[2]-1] = line[3]  \n",
    "\n",
    "test_data_matrix1 = np.zeros((df.user_id.nunique(), df.item_id.nunique()))\n",
    "for line in test_data1.itertuples():\n",
    "    test_data_matrix1[line[1]-1, line[2]-1] = line[3]\n",
    "    \n",
    "# pandas version\n",
    "# doesn't work!!!!!!!!!!!!!!!!!!! since some movie might be removed\n",
    "train_data_matrix_df = pd.pivot_table(train_data1,\"rating\",\"user_id\",\"item_id\",fill_value=0)\n",
    "test_data_matrix_df = pd.pivot_table(test_data1,\"rating\",\"user_id\",\"item_id\",fill_value=0)"
   ]
  },
  {
   "cell_type": "markdown",
   "metadata": {},
   "source": [
    "***\n",
    "- ## Matrix factorization (MF)\n",
    "\n",
    "    is widely used for recommender systems where it **can deal better with scalability and sparsity than Memory-based CF**. \n",
    "    \n",
    "    The goal of MF is to learn the hidden preferences of users and the hidden attributes of items from known ratings (learn features that describe the characteristics of ratings) to then predict the unknown ratings through the dot product of the hidden features of users and items. \n",
    "    \n",
    "    When you have a very sparse matrix, with a lot of dimensions, by doing matrix factorization you can restructure the  user-item matrix into low-rank structure, and you can represent the matrix by the multiplication of two low-rank matrices, where the rows contain the latent vector. You fit this matrix to approximate your original matrix, as closely as possible, by multiplying the low-rank matrices together, which fills in the entries missing in the original matrix.\n",
    "    \n",
    "    The main reason we would like to use MF instead of SVD is that ** we can't avoid dealling with missing value with MF!!!** Which works better on sparse matrix compare to using SVD.\n",
    "    \n",
    "    The general equation can be expressed as follows:\n",
    "    \n",
    "    $$ A_{mxn} = P_{mxr} \\;\\; (Q_{nxr})^T $$\n",
    "    \n",
    "    For the fitting procedure, we want every known $a_{i,j}$ to be as close to \n",
    "    \n",
    "    $$\\;\\hat a_{i,j} = p_i^T \\; q_j\\;$$ \n",
    "    \n",
    "    as possible, where $p_i$ is the ith row of $P$ and $q_j$ is the jth column of $Q^T$. \n",
    "    \n",
    "    ### The Cost Function\n",
    "    \n",
    "    A natural cost function for this problem is the squared error. Think of it as a regression. This is just\n",
    "    \n",
    "    $$ L = \\sum_{(i,j) \\in \\mbox{Train}} ( a_{i,j} - \\hat a_{i,j})^2 $$\n",
    "    \n",
    "    **The coolest part is that we don't need to learn this from whole model but just the entries in our training data set!!**\n",
    "    \n",
    "    ### L2 Regularization\n",
    "    \n",
    "    In this case, we strongly recommend to add L2 regularization. The reason is simple, since we have a very sparse matrix, in most of case, we will easily overfit the training data set without adding L2 regularization term.\n",
    "    \n",
    "    Thus, the Cost Function now is\n",
    "    \n",
    "    $$ L = \\sum_{(i,j) \\in \\mbox{Train}}[ ( a_{i,j} - \\hat a_{i,j})^2 + \\lambda( || p_i ||^2 + || q_j||^2 ) ]$$\n",
    "      \n",
    "    ### Solve for Optimization\n",
    "    \n",
    "    Now, we'll solve the optimization above also called the **Alternating Least Squares with Weighted Regularization (ALS-WR)** method. The way it works is we start by treating one set of hidden vectors as constant. For this example, we'll pick the item vectors, $q_j$. We then take the derivative of the loss function with respect to the other set of vectors, the user vectors, $p_i$ and solve for the non-constant vectors (the user vectors).\n",
    "    \n",
    "    Thus, from the **mathematician view**, since the Cost Function is quadratic we can solve the $p_i$ by\n",
    "    \n",
    "    $$ {dL \\over d p_i} = -\\sum_{j} (a_{i,j} - p_i^T\\;q_j) q_j + \\lambda p_i = 0 $$\n",
    "    \n",
    "    $$ \\therefore \\;=\\; \n",
    "    -(\\left(\\begin{array}{cc} \n",
    "    | & | & |\\\\\n",
    "     q_1 & \\dots & q_n\\\\\n",
    "    | & | & | \n",
    "    \\end{array}\\right)\n",
    "    \\left(\\begin{array}{cc} \n",
    "    a_{i,1}\\\\\n",
    "     \\vdots\\\\\n",
    "    a_{i,n}\n",
    "    \\end{array}\\right) - \\left(\\begin{array}{cc} \n",
    "    | & | & |\\\\\n",
    "     q_1 & \\dots & q_n\\\\\n",
    "    | & | & | \n",
    "    \\end{array}\\right) \n",
    "    \\left(\\begin{array}{cc} \n",
    "    - & q_1 & -\\\\\n",
    "    - & \\vdots & -\\\\\n",
    "    - & q_n & - \n",
    "    \\end{array}\\right) p_i) + \\lambda p_i = 0$$\n",
    "    \n",
    "    Let's say $a_{i,*}$ is the i-th row vector of $A$ \n",
    "\n",
    "    $$ = -(Q^T a_{i,*} - Q^T Q p_i) + \\lambda p_i$$\n",
    "    \n",
    "    $$ = -Q^T(a_{i,*} - Q p_i) + \\lambda p_i = 0$$\n",
    "    \n",
    "    Thus, we can solve $p_i$ by\n",
    "    \n",
    "    $$ (Q^TQ + \\lambda I)p_i = Q^T a_{i,*} $$\n",
    "    \n",
    "    $$ \\therefore \\;\\; p_i = (Q^TQ + \\lambda I)^{-1}Q^T a_{i,*} $$\n",
    "    \n",
    "    Same way to get $q_j$ for fixed $p_i$\n",
    "    \n",
    "    $$ q_j = (P^TP + \\lambda I)^{-1}P^T a_{*,j} $$\n",
    "    "
   ]
  },
  {
   "cell_type": "code",
   "execution_count": 24,
   "metadata": {
    "collapsed": false
   },
   "outputs": [],
   "source": [
    "lambda_ = 0.1\n",
    "n_factors = 100\n",
    "m, n = train_data2.shape\n",
    "n_iterations = 100"
   ]
  },
  {
   "cell_type": "code",
   "execution_count": 25,
   "metadata": {
    "collapsed": false
   },
   "outputs": [],
   "source": [
    "# initial P, Q with random value\n",
    "P = 5 * np.random.rand(m, n_factors) \n",
    "Q = 5 * np.random.rand(n_factors, n)"
   ]
  },
  {
   "cell_type": "code",
   "execution_count": 26,
   "metadata": {
    "collapsed": true
   },
   "outputs": [],
   "source": [
    "from sklearn.metrics import mean_squared_error\n",
    "from math import sqrt\n",
    "def mse(prediction, actual):\n",
    "    prediction = prediction[actual.nonzero()].flatten() \n",
    "    actual = actual[actual.nonzero()].flatten()\n",
    "    return mean_squared_error(actual, prediction)"
   ]
  },
  {
   "cell_type": "code",
   "execution_count": 46,
   "metadata": {
    "collapsed": false
   },
   "outputs": [
    {
     "name": "stdout",
     "output_type": "stream",
     "text": [
      "99th iteration is completed\n",
      "Error of rated movies: 10.0246885975\n"
     ]
    }
   ],
   "source": [
    "#mse(P.dot(Q),np.array(train_data2))\n",
    "\n",
    "errors = []\n",
    "for ii in range(n_iterations):\n",
    "    P = np.linalg.solve(np.dot(Q, Q.T) + lambda_ * np.eye(n_factors), \n",
    "                        np.dot(Q, np.array(train_data2).T)).T\n",
    "    Q = np.linalg.solve(np.dot(P.T, P) + lambda_ * np.eye(n_factors),\n",
    "                        np.dot(P.T, np.array(train_data2)))\n",
    "    if (ii+1) % 100 == 0:\n",
    "        print('{}th iteration is completed'.format(ii))\n",
    "    errors.append(mse(P.dot(Q),np.array(train_data2)))\n",
    "pred2_MF = np.dot(P, Q)\n",
    "\n",
    "print('Error of rated movies: {}'.format(mse(pred2_MF,np.array(test_data2))))"
   ]
  },
  {
   "cell_type": "code",
   "execution_count": 47,
   "metadata": {
    "collapsed": false
   },
   "outputs": [
    {
     "data": {
      "image/png": "[encoded data removed]",
      "text/plain": [
       "<matplotlib.figure.Figure at 0x11c4f1e90>"
      ]
     },
     "metadata": {},
     "output_type": "display_data"
    }
   ],
   "source": [
    "plt.plot(errors);"
   ]
  },
  {
   "cell_type": "code",
   "execution_count": 111,
   "metadata": {
    "collapsed": true
   },
   "outputs": [],
   "source": [
    "inver_new_movie_index = dict((v,k) for k,v in new_movie_index.iteritems())\n",
    "def print_recommendations(train, pred, movie_titles=inver_new_movie_index):\n",
    "    #Q_hat -= np.min(Q_hat)\n",
    "    #Q_hat[Q_hat < 1] *= 5\n",
    "    pred -= np.min(pred)\n",
    "    pred *= float(5) / np.max(pred)\n",
    "    \n",
    "    W = train >0.5\n",
    "    W[W == True] = 1\n",
    "    W[W == False] = 0\n",
    "    # To be consistent with our Q matrix\n",
    "    W = np.array(W.astype(np.float64, copy=False))\n",
    "    \n",
    "    movie_ids = np.argmax(pred - 5 * W, axis=1)\n",
    "    count = 0\n",
    "    for jj, movie_id in zip(train.index, movie_ids):\n",
    "        #if Q_hat[jj, movie_id] < 0.1: continue\n",
    "        print('User {} liked {}\\n'.format(jj , ', '.join([movie_titles[ii] for ii, qq in enumerate(train_data2.sort_values(by = jj, axis = 1,ascending = False).loc[jj][:5])])))\n",
    "        print('User {} did not like {}\\n'.format(jj , ', '.join([movie_titles[ii] for ii, qq in enumerate(train_data2.sort_values(by = jj, axis = 1).loc[jj]) if qq != 0][:5])))\n",
    "        print('\\n User {} recommended movie is {} - with predicted rating: {}'.format(\n",
    "                    jj , movie_titles[movie_id], pred[jj, movie_id]))\n",
    "        print('\\n' + 100 *  '-' + '\\n')\n",
    "        count += 1\n",
    "        if count == 3:\n",
    "            break\n",
    "#print_recommendations()"
   ]
  },
  {
   "cell_type": "code",
   "execution_count": 120,
   "metadata": {
    "collapsed": false
   },
   "outputs": [
    {
     "data": {
      "text/plain": [
       "5.1171268877879958"
      ]
     },
     "execution_count": 120,
     "metadata": {},
     "output_type": "execute_result"
    }
   ],
   "source": [
    "mse(pred2_MF, np.array(test_data2))"
   ]
  },
  {
   "cell_type": "code",
   "execution_count": 112,
   "metadata": {
    "collapsed": false,
    "scrolled": false
   },
   "outputs": [
    {
     "name": "stdout",
     "output_type": "stream",
     "text": [
      "User 1 liked Star Wars (1977), Empire Strikes Back, The (1980), Gone with the Wind (1939), Kolya (1996), L.A. Confidential (1997)\n",
      "\n",
      "User 1 did not like Across the Sea of Time (1995), Raw Deal (1948), Frankie Starlight (1995), Cosi (1996), For Ever Mozart (1996)\n",
      "\n",
      "\n",
      " User 1 recommended movie is Dave (1993) - with predicted rating: 1.68457756142\n",
      "\n",
      "----------------------------------------------------------------------------------------------------\n",
      "\n",
      "User 2 liked Star Wars (1977), Empire Strikes Back, The (1980), Gone with the Wind (1939), Kolya (1996), L.A. Confidential (1997)\n",
      "\n",
      "User 2 did not like Kika (1993), Mirage (1995), Bonheur, Le (1965), Á köldum klaka (Cold Fever) (1994), Sweet Nothing (1995)\n",
      "\n",
      "\n",
      " User 2 recommended movie is Chasing Amy (1997) - with predicted rating: 2.33953143986\n",
      "\n",
      "----------------------------------------------------------------------------------------------------\n",
      "\n",
      "User 3 liked Star Wars (1977), Empire Strikes Back, The (1980), Gone with the Wind (1939), Kolya (1996), L.A. Confidential (1997)\n",
      "\n",
      "User 3 did not like Ed's Next Move (1996), Two Friends (1986) , Men of Means (1998), Niagara, Niagara (1997), Spirits of the Dead (Tre passi nel delirio) (1968)\n",
      "\n",
      "\n",
      " User 3 recommended movie is Cop Land (1997) - with predicted rating: 1.44063387536\n",
      "\n",
      "----------------------------------------------------------------------------------------------------\n",
      "\n"
     ]
    }
   ],
   "source": [
    "print_recommendations(train_data2,pred2_MF)"
   ]
  },
  {
   "cell_type": "code",
   "execution_count": null,
   "metadata": {
    "collapsed": true
   },
   "outputs": [],
   "source": [
    "W = train >0.5\n",
    "W[W == True] = 1\n",
    "W[W == False] = 0\n",
    "# To be consistent with our Q matrix\n",
    "W = np.array(W.astype(np.float64, copy=False))"
   ]
  },
  {
   "cell_type": "code",
   "execution_count": 115,
   "metadata": {
    "collapsed": false
   },
   "outputs": [
    {
     "name": "stdout",
     "output_type": "stream",
     "text": [
      "0th iteration is completed\n",
      "1th iteration is completed\n",
      "2th iteration is completed\n",
      "3th iteration is completed\n",
      "4th iteration is completed\n",
      "5th iteration is completed\n",
      "6th iteration is completed\n",
      "7th iteration is completed\n",
      "8th iteration is completed\n",
      "9th iteration is completed\n"
     ]
    }
   ],
   "source": [
    "# initial P, Q with random value\n",
    "lambda_ = 0.1\n",
    "n_factors = 10\n",
    "m, n = train_data2.shape\n",
    "n_iterations = 10\n",
    "P = 5 * np.random.rand(m, n_factors) \n",
    "Q = 5 * np.random.rand(n_factors, n)\n",
    "\n",
    "weighted_errors = []\n",
    "for ii in range(n_iterations):\n",
    "    for u, Wu in enumerate(W):\n",
    "        P[u] = np.linalg.solve(np.dot(Q, np.dot(np.diag(Wu), Q.T)) + lambda_ * np.eye(n_factors),\n",
    "                               np.dot(Q, np.dot(np.diag(Wu), np.array(train_data2)[u].T))).T\n",
    "    for i, Wi in enumerate(W.T):\n",
    "        Q[:,i] = np.linalg.solve(np.dot(P.T, np.dot(np.diag(Wi), P)) + lambda_ * np.eye(n_factors),\n",
    "                                 np.dot(P.T, np.dot(np.diag(Wi), np.array(train_data2)[:, i])))\n",
    "    weighted_errors.append(mse(P.dot(Q),np.array(train_data2)))\n",
    "    print('{}th iteration is completed'.format(ii))\n",
    "weighted_Q_hat = np.dot(P,Q)\n",
    "#print('Error of rated movies: {}'.format(get_error(Q, X, Y, W)))"
   ]
  },
  {
   "cell_type": "code",
   "execution_count": 117,
   "metadata": {
    "collapsed": false,
    "scrolled": true
   },
   "outputs": [
    {
     "data": {
      "text/plain": [
       "[<matplotlib.lines.Line2D at 0x12546a2d0>]"
      ]
     },
     "execution_count": 117,
     "metadata": {},
     "output_type": "execute_result"
    },
    {
     "data": {
      "image/png": "[encoded data removed]",
      "text/plain": [
       "<matplotlib.figure.Figure at 0x11e617dd0>"
      ]
     },
     "metadata": {},
     "output_type": "display_data"
    }
   ],
   "source": [
    "plt.plot(weighted_errors)"
   ]
  },
  {
   "cell_type": "code",
   "execution_count": 121,
   "metadata": {
    "collapsed": false
   },
   "outputs": [
    {
     "data": {
      "text/plain": [
       "2.111528217888111"
      ]
     },
     "execution_count": 121,
     "metadata": {},
     "output_type": "execute_result"
    }
   ],
   "source": [
    "mse(weighted_Q_hat, np.array(test_data2))"
   ]
  },
  {
   "cell_type": "code",
   "execution_count": 118,
   "metadata": {
    "collapsed": false,
    "scrolled": false
   },
   "outputs": [
    {
     "name": "stdout",
     "output_type": "stream",
     "text": [
      "User 1 liked Star Wars (1977), Empire Strikes Back, The (1980), Gone with the Wind (1939), Kolya (1996), L.A. Confidential (1997)\n",
      "\n",
      "User 1 did not like Across the Sea of Time (1995), Raw Deal (1948), Frankie Starlight (1995), Cosi (1996), For Ever Mozart (1996)\n",
      "\n",
      "\n",
      " User 1 recommended movie is City of Lost Children, The (1995) - with predicted rating: 2.78466585515\n",
      "\n",
      "----------------------------------------------------------------------------------------------------\n",
      "\n",
      "User 2 liked Star Wars (1977), Empire Strikes Back, The (1980), Gone with the Wind (1939), Kolya (1996), L.A. Confidential (1997)\n",
      "\n",
      "User 2 did not like Kika (1993), Mirage (1995), Bonheur, Le (1965), Á köldum klaka (Cold Fever) (1994), Sweet Nothing (1995)\n",
      "\n",
      "\n",
      " User 2 recommended movie is Local Hero (1983) - with predicted rating: 2.85929077916\n",
      "\n",
      "----------------------------------------------------------------------------------------------------\n",
      "\n",
      "User 3 liked Star Wars (1977), Empire Strikes Back, The (1980), Gone with the Wind (1939), Kolya (1996), L.A. Confidential (1997)\n",
      "\n",
      "User 3 did not like Ed's Next Move (1996), Two Friends (1986) , Men of Means (1998), Niagara, Niagara (1997), Spirits of the Dead (Tre passi nel delirio) (1968)\n",
      "\n",
      "\n",
      " User 3 recommended movie is Basquiat (1996) - with predicted rating: 2.25941722208\n",
      "\n",
      "----------------------------------------------------------------------------------------------------\n",
      "\n"
     ]
    }
   ],
   "source": [
    "print_recommendations(train_data2,weighted_Q_hat)"
   ]
  },
  {
   "cell_type": "markdown",
   "metadata": {},
   "source": [
    "It is very amazing to see that the MSE is much smaller than other methods, even the SVD we will shoe below. "
   ]
  },
  {
   "cell_type": "markdown",
   "metadata": {},
   "source": [
    "### Validation\n",
    "\n",
    "  Let's use the prediction matrix to calculate the similarity matrix based on the prediction"
   ]
  },
  {
   "cell_type": "code",
   "execution_count": 122,
   "metadata": {
    "collapsed": true
   },
   "outputs": [],
   "source": [
    "from sklearn.metrics.pairwise import cosine_similarity\n",
    "item_similarity = cosine_similarity(weighted_Q_hat.T)"
   ]
  },
  {
   "cell_type": "code",
   "execution_count": 125,
   "metadata": {
    "collapsed": false
   },
   "outputs": [
    {
     "name": "stdout",
     "output_type": "stream",
     "text": [
      "True\n",
      "0\n"
     ]
    },
    {
     "data": {
      "text/plain": [
       "['Star Wars (1977)',\n",
       " 'Empire Strikes Back, The (1980)',\n",
       " 'Raiders of the Lost Ark (1981)',\n",
       " 'Return of the Jedi (1983)',\n",
       " 'Toy Story (1995)',\n",
       " '20,000 Leagues Under the Sea (1954)',\n",
       " 'Sneakers (1992)',\n",
       " 'Indiana Jones and the Last Crusade (1989)',\n",
       " 'Aliens (1986)',\n",
       " 'Butch Cassidy and the Sundance Kid (1969)',\n",
       " 'Some Folks Call It a Sling Blade (1993)']"
      ]
     },
     "execution_count": 125,
     "metadata": {},
     "output_type": "execute_result"
    }
   ],
   "source": [
    "def top_k_movies(similarity, index_to_title , movie_idx, k=6):\n",
    "    return [index_to_title[x] for x in np.argsort(similarity[movie_idx,:])[:-k-1:-1]]\n",
    "print \"Star Wars (1977)\" in new_movie_index\n",
    "print new_movie_index[\"Star Wars (1977)\"]\n",
    "top_k_movies(np.array(item_similarity), inver_new_movie_index, 0, 11)"
   ]
  },
  {
   "cell_type": "markdown",
   "metadata": {},
   "source": [
    "   ***\n",
    "    \n",
    "   However, It turns out that it is very expensive to train the model. From the **engineer's view**, we all know that it might be very expensive to compute all the data set in once, therefore, we can use **SGD** to approach the solution."
   ]
  },
  {
   "cell_type": "code",
   "execution_count": 53,
   "metadata": {
    "collapsed": true
   },
   "outputs": [],
   "source": [
    "def SGD(n_iterations, train, lambda_, P, Q):\n",
    "    error = []\n",
    "    mu = 0.01\n",
    "    train = np.array(train)\n",
    "    dataindex = zip(train.nonzero()[0],train.nonzero()[1])\n",
    "    for i in range(n_iterations):\n",
    "        for j,z in dataindex:\n",
    "            P[j] = P[j] - mu*(-(train[j][z] - P[j].dot(Q.T[z].T))*Q.T[z] - lambda_*P[j])\n",
    "            Q.T[z] = Q.T[z] - mu*(-(train[j][z] - P[j].dot(Q.T[z].T))*P[j] - lambda_*Q.T[z])\n",
    "            mu *= 1/(1+mu**2)\n",
    "        error.append(mse(P.dot(Q),train))\n",
    "    return error, P, Q"
   ]
  },
  {
   "cell_type": "code",
   "execution_count": 54,
   "metadata": {
    "collapsed": false
   },
   "outputs": [],
   "source": [
    "# initial P, Q with random value\n",
    "lambda_ = 0.1\n",
    "n_factors = 10\n",
    "m, n = train_data2.shape\n",
    "n_iterations = 100\n",
    "P = 5 * np.random.rand(m, n_factors) \n",
    "Q = 5 * np.random.rand(n_factors, n)\n",
    "mu = 0.1\n",
    "error, P, Q = SGD(n_iterations, train_data2, lambda_, P, Q)"
   ]
  },
  {
   "cell_type": "code",
   "execution_count": 55,
   "metadata": {
    "collapsed": false
   },
   "outputs": [
    {
     "data": {
      "text/plain": [
       "[<matplotlib.lines.Line2D at 0x11c427d90>]"
      ]
     },
     "execution_count": 55,
     "metadata": {},
     "output_type": "execute_result"
    },
    {
     "data": {
      "image/png": "[encoded data removed]",
      "text/plain": [
       "<matplotlib.figure.Figure at 0x12296c810>"
      ]
     },
     "metadata": {},
     "output_type": "display_data"
    }
   ],
   "source": [
    "plt.plot(error)"
   ]
  },
  {
   "cell_type": "code",
   "execution_count": 57,
   "metadata": {
    "collapsed": false
   },
   "outputs": [
    {
     "data": {
      "text/plain": [
       "10.02618726235848"
      ]
     },
     "execution_count": 57,
     "metadata": {},
     "output_type": "execute_result"
    }
   ],
   "source": [
    "mse(P.dot(Q), np.array(test_data2))"
   ]
  },
  {
   "cell_type": "code",
   "execution_count": 58,
   "metadata": {
    "collapsed": true
   },
   "outputs": [],
   "source": [
    "from sklearn.metrics.pairwise import cosine_similarity\n",
    "item_similarity = cosine_similarity(P.dot(Q).T)"
   ]
  },
  {
   "cell_type": "code",
   "execution_count": 60,
   "metadata": {
    "collapsed": true
   },
   "outputs": [],
   "source": [
    "inver_new_movie_index = dict((v,k) for k,v in new_movie_index.iteritems())"
   ]
  },
  {
   "cell_type": "code",
   "execution_count": 62,
   "metadata": {
    "collapsed": false
   },
   "outputs": [
    {
     "name": "stdout",
     "output_type": "stream",
     "text": [
      "True\n",
      "0\n"
     ]
    },
    {
     "data": {
      "text/plain": [
       "['Star Wars (1977)',\n",
       " 'Return of the Jedi (1983)',\n",
       " 'Willy Wonka and the Chocolate Factory (1971)',\n",
       " 'Rock, The (1996)',\n",
       " 'Toy Story (1995)',\n",
       " 'Star Trek: First Contact (1996)',\n",
       " 'Twister (1996)',\n",
       " 'Courage Under Fire (1996)',\n",
       " 'Phenomenon (1996)',\n",
       " 'Men in Black (1997)',\n",
       " 'Godfather, The (1972)']"
      ]
     },
     "execution_count": 62,
     "metadata": {},
     "output_type": "execute_result"
    }
   ],
   "source": [
    "def top_k_movies(similarity, index_to_title , movie_idx, k=6):\n",
    "    return [index_to_title[x] for x in np.argsort(similarity[movie_idx,:])[:-k-1:-1]]\n",
    "print \"Star Wars (1977)\" in new_movie_index\n",
    "print new_movie_index[\"Star Wars (1977)\"]\n",
    "top_k_movies(np.array(item_similarity), inver_new_movie_index, 0, 11)"
   ]
  },
  {
   "cell_type": "markdown",
   "metadata": {},
   "source": [
    "   \n",
    "   ### Bias Parameters (extra)\n",
    "    \n",
    "   Same as mehod like linear regression or logistic regression, we can add bias parameters to our model to improve accuracy. In this case our model becomes\n",
    "    \n",
    "   $$\\;\\hat a_{i,j} = p_i^T \\; q_j + b_i + c_j + \\mu $$\n",
    "    \n",
    "   Where $\\mu$ is the global mean (average of all known ratings). We can interpret $b_i$ as the bias of a user. A negative bias means this user just hates movies more than the average person. A positive bias would mean the opposite. Similarly, $c_j$ is the bias of a movie. A positive bias would mean, “Wow, this movie is good, regardless of who is watching it!”"
   ]
  },
  {
   "cell_type": "markdown",
   "metadata": {},
   "source": [
    "***\n",
    "- ## SVD Singular value decomposition \n",
    "\n",
    "    A well-known matrix decomposition method is **Singular value decomposition (SVD)**. Collaborative Filtering can be formulated by approximating a matrix `X` by using singular value decomposition. ( ** Need to find some way to deal with missing value ** )\n",
    "\n",
    "    The general equation can be expressed as follows:\n",
    "<img src=\"https://latex.codecogs.com/gif.latex?X=USV^T\" title=\"X=USV^T\" />\n",
    "\n",
    "   Given `m x n` matrix `X`:\n",
    "   * *`U`* is an *`(m x r)`* orthogonal matrix\n",
    "   * *`S`* is an *`(r x r)`* diagonal matrix with non-negative real numbers on the diagonal\n",
    "   * *V^T* is an *`(r x n)`* orthogonal matrix\n",
    "\n",
    "   Elements on the diagnoal in `S` are known as *singular values of `X`*. \n",
    "\n",
    " Matrix *`X`* can be factorized to *`U`*, *`S`* and *`V`*. The *`U`* matrix represents the feature vectors corresponding to the users in the hidden feature space and the *`V`* matrix represents the feature vectors corresponding to the items in the hidden feature space. More detail will be covered in 09-SVD\n",
    "<img class=\"aligncenter size-thumbnail img-responsive\" style=\"max-width:100%; width: 50%; max-width: none\" src=\"http://s33.postimg.org/kwgsb5g1b/BLOG_CCA_5.png\"/>\n",
    "\n",
    "\n",
    "we can use\n",
    "\n",
    "        import scipy.sparse as sp\n",
    "        from scipy.sparse.linalg import svds\n",
    "        \n",
    "to get the matrix"
   ]
  },
  {
   "cell_type": "code",
   "execution_count": 2,
   "metadata": {
    "collapsed": false
   },
   "outputs": [
    {
     "ename": "NameError",
     "evalue": "name 'train_data_matrix1' is not defined",
     "output_type": "error",
     "traceback": [
      "\u001b[0;31m---------------------------------------------------------------------------\u001b[0m",
      "\u001b[0;31mNameError\u001b[0m                                 Traceback (most recent call last)",
      "\u001b[0;32m<ipython-input-2-d18c20cb938a>\u001b[0m in \u001b[0;36m<module>\u001b[0;34m()\u001b[0m\n\u001b[1;32m      3\u001b[0m \u001b[0;34m\u001b[0m\u001b[0m\n\u001b[1;32m      4\u001b[0m \u001b[0;31m#get SVD components from train matrix. Choose k to define the S shape\u001b[0m\u001b[0;34m\u001b[0m\u001b[0;34m\u001b[0m\u001b[0m\n\u001b[0;32m----> 5\u001b[0;31m \u001b[0mu1\u001b[0m\u001b[0;34m,\u001b[0m \u001b[0ms1\u001b[0m\u001b[0;34m,\u001b[0m \u001b[0mvt1\u001b[0m \u001b[0;34m=\u001b[0m \u001b[0msvds\u001b[0m\u001b[0;34m(\u001b[0m\u001b[0mtrain_data_matrix1\u001b[0m\u001b[0;34m,\u001b[0m \u001b[0mk\u001b[0m \u001b[0;34m=\u001b[0m \u001b[0;36m20\u001b[0m\u001b[0;34m)\u001b[0m\u001b[0;34m\u001b[0m\u001b[0m\n\u001b[0m\u001b[1;32m      6\u001b[0m \u001b[0ms_diag_matrix1\u001b[0m\u001b[0;34m=\u001b[0m\u001b[0mnp\u001b[0m\u001b[0;34m.\u001b[0m\u001b[0mdiag\u001b[0m\u001b[0;34m(\u001b[0m\u001b[0ms1\u001b[0m\u001b[0;34m)\u001b[0m\u001b[0;34m\u001b[0m\u001b[0m\n\u001b[1;32m      7\u001b[0m \u001b[0;34m\u001b[0m\u001b[0m\n",
      "\u001b[0;31mNameError\u001b[0m: name 'train_data_matrix1' is not defined"
     ]
    }
   ],
   "source": [
    "import scipy.sparse as sp\n",
    "from scipy.sparse.linalg import svds\n",
    "\n",
    "#get SVD components from train matrix. Choose k to define the S shape\n",
    "u1, s1, vt1 = svds(train_data_matrix1, k = 20)\n",
    "s_diag_matrix1=np.diag(s1)\n",
    "\n",
    "\n",
    "u2, s2, vt2 = svds(train_data2, k = 20)\n",
    "s_diag_matrix2=np.diag(s2)"
   ]
  },
  {
   "cell_type": "markdown",
   "metadata": {},
   "source": [
    "***\n",
    "- ## Prddict\n",
    "\n",
    "    Then we can make a prediction by taking dot product of *`U`*, *`S`* and *`V^T`*.\n",
    "\n",
    "<img class=\"aligncenter size-thumbnail img-responsive\" style=\"max-width:100%; width: 50%; max-width: none\" src=\"http://s33.postimg.org/ch9lcm6pb/BLOG_CCA_4.png\"/>\n",
    "\n",
    "\n",
    "   \n",
    "   "
   ]
  },
  {
   "cell_type": "code",
   "execution_count": null,
   "metadata": {
    "collapsed": true
   },
   "outputs": [],
   "source": [
    "pred1 = np.dot(np.dot(u1, s_diag_matrix1), vt1)\n",
    "pred2 = np.dot(np.dot(u2, s_diag_matrix2), vt2)"
   ]
  },
  {
   "cell_type": "markdown",
   "metadata": {},
   "source": [
    "***\n",
    "\n",
    "- ## Evaluate\n",
    "\n",
    "       from sklearn.metrics import mean_squared_error\n",
    "       \n",
    "    There are many evaluation metrics but one of the most popular metric used to evaluate accuracy of predicted ratings is **Mean Squared Error (MSE)** or **Root Mean Squared Error (RMSE)**.\n",
    "    \n",
    "    <img src=\"https://latex.codecogs.com/gif.latex?RMSE&space;=\\sqrt{\\frac{1}{N}&space;\\sum&space;(x_i&space;-\\hat{x_i})^2}\" title=\"RMSE =\\sqrt{\\frac{1}{N} \\sum (x_i -\\hat{x_i})^2}\" />\n",
    "\n",
    "    >  Note: we only want to consider predicted ratings that are in the **test dataset**, thus we should filter out all other elements in the prediction matrix with \n",
    "    \n",
    "        prediction[actual.nonzero()].flatten()\n",
    "        \n",
    "        df.nonzero() --->  Return the indices sets of the elements that are non-zero\n",
    "        \n",
    "        flatten() --->  Return a copy of the array collapsed into one dimension."
   ]
  },
  {
   "cell_type": "code",
   "execution_count": 3,
   "metadata": {
    "collapsed": false
   },
   "outputs": [
    {
     "ename": "NameError",
     "evalue": "name 'test_data_matrix1' is not defined",
     "output_type": "error",
     "traceback": [
      "\u001b[0;31m---------------------------------------------------------------------------\u001b[0m",
      "\u001b[0;31mNameError\u001b[0m                                 Traceback (most recent call last)",
      "\u001b[0;32m<ipython-input-3-df6090bfb6b9>\u001b[0m in \u001b[0;36m<module>\u001b[0;34m()\u001b[0m\n\u001b[0;32m----> 1\u001b[0;31m \u001b[0mtest_data_matrix1\u001b[0m\u001b[0;34m[\u001b[0m\u001b[0mtest_data_matrix1\u001b[0m\u001b[0;34m.\u001b[0m\u001b[0mnonzero\u001b[0m\u001b[0;34m(\u001b[0m\u001b[0;34m)\u001b[0m\u001b[0;34m]\u001b[0m\u001b[0;34m.\u001b[0m\u001b[0mflatten\u001b[0m\u001b[0;34m(\u001b[0m\u001b[0;34m)\u001b[0m\u001b[0;34m\u001b[0m\u001b[0m\n\u001b[0m",
      "\u001b[0;31mNameError\u001b[0m: name 'test_data_matrix1' is not defined"
     ]
    }
   ],
   "source": [
    "test_data_matrix1[test_data_matrix1.nonzero()].flatten()"
   ]
  },
  {
   "cell_type": "code",
   "execution_count": 24,
   "metadata": {
    "collapsed": true
   },
   "outputs": [],
   "source": [
    "from sklearn.metrics import mean_squared_error\n",
    "from math import sqrt\n",
    "def mse(prediction, actual):\n",
    "    prediction = prediction[actual.nonzero()].flatten() \n",
    "    actual = actual[actual.nonzero()].flatten()\n",
    "    return mean_squared_error(actual, prediction)"
   ]
  },
  {
   "cell_type": "code",
   "execution_count": 25,
   "metadata": {
    "collapsed": false
   },
   "outputs": [
    {
     "name": "stdout",
     "output_type": "stream",
     "text": [
      "split 1: \n",
      "User-based CF MSE: 7.35322770054\n",
      "\n",
      "split 2:\n",
      "User-based CF MSE: 7.94837447878\n"
     ]
    }
   ],
   "source": [
    "\n",
    "print('split 1: \\nUser-based CF MSE: ' + str(mse(pred1, test_data_matrix1)))\n",
    "print \"\\nsplit 2:\"\n",
    "print('User-based CF MSE: ' + str(mse(pred2, np.array(test_data2))))"
   ]
  },
  {
   "cell_type": "markdown",
   "metadata": {},
   "source": [
    "**We can try tuning the parameter of *k* of # of singular values and vectors to find the optimal value for minimizing our testing MSE.**"
   ]
  },
  {
   "cell_type": "code",
   "execution_count": null,
   "metadata": {
    "collapsed": true
   },
   "outputs": [],
   "source": []
  },
  {
   "cell_type": "markdown",
   "metadata": {},
   "source": [
    "***\n",
    "- ## Validation \n",
    "    let's check some user's opinion, see if people who like Pulp Fichtion have similar taste"
   ]
  },
  {
   "cell_type": "code",
   "execution_count": 26,
   "metadata": {
    "collapsed": false,
    "scrolled": true
   },
   "outputs": [],
   "source": [
    "# real movie index\n",
    "new_movie_index\n",
    "inver_new_movie_index = dict((v,k) for k,v in new_movie_index.iteritems())"
   ]
  },
  {
   "cell_type": "markdown",
   "metadata": {},
   "source": [
    "   [**Pulp Fiction (1994)**](https://en.wikipedia.org/wiki/Pulp_Fiction)\n",
    "\n",
    "   - Top 5 from Google search:\n",
    "       \n",
    "           Reservoir Dogs \n",
    "           Jackie Brown\n",
    "           True Romance\n",
    "           Kill Bill: volume 1\n",
    "           American Ganster"
   ]
  },
  {
   "cell_type": "code",
   "execution_count": 27,
   "metadata": {
    "collapsed": false
   },
   "outputs": [
    {
     "name": "stdout",
     "output_type": "stream",
     "text": [
      "True\n",
      "217\n"
     ]
    }
   ],
   "source": [
    "print \"Pulp Fiction (1994)\" in new_movie_index\n",
    "print new_movie_index[\"Pulp Fiction (1994)\"]\n",
    "\n",
    "movie_count = []\n",
    "\n",
    "for user in pred2[:,217].argsort()[:-21:-1]:\n",
    "    for x in pred2[user].argsort()[:-11:-1]:\n",
    "        movie_count.append(inver_new_movie_index[x]) "
   ]
  },
  {
   "cell_type": "code",
   "execution_count": 28,
   "metadata": {
    "collapsed": false
   },
   "outputs": [
    {
     "data": {
      "image/png": "[encoded data removed]",
      "text/plain": [
       "<matplotlib.figure.Figure at 0x112e50f10>"
      ]
     },
     "metadata": {},
     "output_type": "display_data"
    }
   ],
   "source": [
    "import seaborn as sns\n",
    "plt.figure(figsize=(10,16))\n",
    "\n",
    "ax = sns.countplot(y =movie_count)\n",
    "ax.set_xticklabels(ax.get_xticklabels(), rotation=90, ha=\"right\")\n",
    "plt.tight_layout()"
   ]
  },
  {
   "cell_type": "markdown",
   "metadata": {},
   "source": [
    "It's hard to say if the recommender do a great job or not since the movies are all quite old. However, we can notice that using second way to split the data provide more reasonable result!"
   ]
  },
  {
   "cell_type": "code",
   "execution_count": 126,
   "metadata": {
    "collapsed": false
   },
   "outputs": [
    {
     "data": {
      "text/plain": [
       "['Star Wars (1977)',\n",
       " 'Return of the Jedi (1983)',\n",
       " 'Empire Strikes Back, The (1980)',\n",
       " 'Raiders of the Lost Ark (1981)',\n",
       " 'Indiana Jones and the Last Crusade (1989)',\n",
       " 'Toy Story (1995)',\n",
       " 'Star Trek: First Contact (1996)',\n",
       " 'Princess Bride, The (1987)',\n",
       " 'Fugitive, The (1993)',\n",
       " 'Godfather, The (1972)',\n",
       " 'Back to the Future (1985)']"
      ]
     },
     "execution_count": 126,
     "metadata": {},
     "output_type": "execute_result"
    }
   ],
   "source": [
    "item_similarity_svd = cosine_similarity(pred2.T)\n",
    "top_k_movies(np.array(item_similarity_svd), inver_new_movie_index, 0, 11)"
   ]
  },
  {
   "cell_type": "markdown",
   "metadata": {
    "collapsed": true
   },
   "source": [
    "## Reference\n",
    "\n",
    "http://blog.ethanrosenthal.com/2015/11/02/intro-to-collaborative-filtering/\n",
    "\n",
    "http://nbviewer.jupyter.org/github/ethen8181/machine-learning/blob/master/recsys/1_ALSWR.ipynb\n",
    "\n",
    "https://lazyprogrammer.me/tutorial-on-collaborative-filtering-and-matrix-factorization-in-python/\n",
    "\n",
    "http://buzzard.ups.edu/courses/2014spring/420projects/math420-UPS-spring-2014-gower-netflix-SVD.pdf\n",
    "\n",
    "https://medium.com/netflix-techblog/netflix-recommendations-beyond-the-5-stars-part-1-55838468f429\n",
    "\n",
    "https://bugra.github.io/work/notes/2014-04-19/alternating-least-squares-method-for-collaborative-filtering/"
   ]
  },
  {
   "cell_type": "code",
   "execution_count": null,
   "metadata": {
    "collapsed": true
   },
   "outputs": [],
   "source": []
  }
 ],
 "metadata": {
  "kernelspec": {
   "display_name": "Python 2",
   "language": "python",
   "name": "python2"
  },
  "language_info": {
   "codemirror_mode": {
    "name": "ipython",
    "version": 2
   },
   "file_extension": ".py",
   "mimetype": "text/x-python",
   "name": "python",
   "nbconvert_exporter": "python",
   "pygments_lexer": "ipython2",
   "version": "2.7.13"
  }
 },
 "nbformat": 4,
 "nbformat_minor": 2
}
