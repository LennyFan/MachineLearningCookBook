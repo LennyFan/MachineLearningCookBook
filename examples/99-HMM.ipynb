{
 "cells": [
  {
   "cell_type": "code",
   "execution_count": 1,
   "metadata": {
    "collapsed": true
   },
   "outputs": [],
   "source": [
    "import numpy as np\n",
    "import pandas as pd"
   ]
  },
  {
   "cell_type": "code",
   "execution_count": 406,
   "metadata": {},
   "outputs": [],
   "source": [
    "class HMM_Algorithm(object):\n",
    "    \n",
    "    def __init__(self, transition, emission, obs ):\n",
    "        \n",
    "        self.trans = transition\n",
    "        self.emiss = emission\n",
    "        self.obs = obs\n",
    "        \n",
    "        self.alpha_set = pd.DataFrame(list(self.emiss.T[obs[0]]), index = trans.index, columns=[0] )\n",
    "        self.beta_set  = pd.DataFrame(np.zeros(len(trans)), index = trans.index, columns=[len(obs)-1] )\n",
    "        self.joint_prob = pd.DataFrame(np.zeros(len(trans)) , index = trans.index, columns=[len(obs)-1] )\n",
    "        \n",
    "    def forward(self):\n",
    "        \n",
    "        for i in xrange(1,len(obs)) :            \n",
    "            # log probability (tag,tag)\n",
    "            log_prob = ((self.trans + self.alpha_set[i-1].T).T + self.emiss.T[obs[i]].T).T \n",
    "            self.alpha_set[i] = np.log(np.exp(log_prob.T - log_prob.max(1)).T.sum(1)) + log_prob.max(1)\n",
    "            \n",
    "        # update joint probability\n",
    "        self.joint_prob[len(obs)-1] += self.alpha_set[len(obs)-1]\n",
    "        \n",
    "    def backward(self):\n",
    "        i = len(obs)-2\n",
    "        while i >= 0 :     \n",
    "            # log probability (tag,tag)\n",
    "            log_prob = (self.trans.T + self.beta_set[i+1].T + self.emiss.T[obs[i+1]].T).T\n",
    "            self.beta_set[i] = np.log(np.exp(log_prob - log_prob.max(0)).sum(0)) + log_prob.max(0)\n",
    "            \n",
    "            # update joint probability\n",
    "            self.joint_prob[i] = self.alpha_set[i] + self.beta_set[i]\n",
    "            \n",
    "            i -= 1\n",
    "    \n",
    "    def total_prob_of_path(self):    \n",
    "        return np.exp(self.joint_prob).sum(0)[0]\n",
    "    \n",
    "    def posterior_prob(self):\n",
    "        return self.joint_prob - np.log(self.total_prob_of_path())\n",
    "        \n",
    "    def E_step(self):\n",
    "        self.forward()\n",
    "        self.backward()\n",
    "        \n",
    "    def update_trans(self):\n",
    "        \n",
    "        \n",
    "        \n",
    "        \n",
    "    def update_emiss(self):\n",
    "        \n",
    "        \n",
    "    def M_step(self):\n",
    "        self.update_trans()\n",
    "        self.update_emiss()"
   ]
  },
  {
   "cell_type": "code",
   "execution_count": 407,
   "metadata": {
    "collapsed": true
   },
   "outputs": [],
   "source": [
    "trans = np.log(pd.DataFrame([[0.7,0.3],[0.3,0.7]], index = [\"H\",\"C\"], columns=[\"H\",\"C\"] ))\n",
    "emiss = np.log(pd.DataFrame([[0.7,0.1],[0.2,0.2],[0.1,0.7]], index = [1,2,3], columns=[\"H\",\"C\"] ))\n",
    "obs = [2,3,2,1,2,2]"
   ]
  },
  {
   "cell_type": "code",
   "execution_count": 401,
   "metadata": {},
   "outputs": [],
   "source": [
    "test = HMM_Algorithm( trans,emiss,obs)"
   ]
  }
 ],
 "metadata": {
  "kernelspec": {
   "display_name": "Python 2",
   "language": "python",
   "name": "python2"
  },
  "language_info": {
   "codemirror_mode": {
    "name": "ipython",
    "version": 2
   },
   "file_extension": ".py",
   "mimetype": "text/x-python",
   "name": "python",
   "nbconvert_exporter": "python",
   "pygments_lexer": "ipython2",
   "version": "2.7.13"
  }
 },
 "nbformat": 4,
 "nbformat_minor": 2
}
