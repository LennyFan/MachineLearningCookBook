{
 "cells": [
  {
   "cell_type": "code",
   "execution_count": 25,
   "metadata": {
    "collapsed": true
   },
   "outputs": [],
   "source": [
    "import json\n",
    "import pandas as pd\n",
    "import numpy as np\n",
    "import plotly\n",
    "import sqlite3"
   ]
  },
  {
   "cell_type": "code",
   "execution_count": 26,
   "metadata": {
    "collapsed": true
   },
   "outputs": [],
   "source": [
    "conn = sqlite3.connect('jobs.db', check_same_thread=False)"
   ]
  },
  {
   "cell_type": "code",
   "execution_count": 49,
   "metadata": {
    "collapsed": false
   },
   "outputs": [],
   "source": [
    "df = pd.read_sql(\"SELECT * FROM waiting ORDER BY id DESC\", conn)"
   ]
  },
  {
   "cell_type": "markdown",
   "metadata": {},
   "source": [
    "## Below is the demo data I scraped from a job board\n",
    "\n",
    "I used regular expression to get some of contents\n",
    "\n",
    "- years: re.search(\"(minimum.*)?([0-9]+ *- *)?[0-9]+( *\\+)? *year\", str(line.lower()))"
   ]
  },
  {
   "cell_type": "code",
   "execution_count": 51,
   "metadata": {
    "collapsed": false,
    "scrolled": true
   },
   "outputs": [
    {
     "data": {
      "text/html": [
       "<div>\n",
       "<style scoped>\n",
       "    .dataframe tbody tr th:only-of-type {\n",
       "        vertical-align: middle;\n",
       "    }\n",
       "\n",
       "    .dataframe tbody tr th {\n",
       "        vertical-align: top;\n",
       "    }\n",
       "\n",
       "    .dataframe thead th {\n",
       "        text-align: right;\n",
       "    }\n",
       "</style>\n",
       "<table border=\"1\" class=\"dataframe\">\n",
       "  <thead>\n",
       "    <tr style=\"text-align: right;\">\n",
       "      <th></th>\n",
       "      <th>id</th>\n",
       "      <th>position</th>\n",
       "      <th>company</th>\n",
       "      <th>years</th>\n",
       "      <th>skills</th>\n",
       "      <th>phd</th>\n",
       "      <th>master</th>\n",
       "      <th>sponsorinfo</th>\n",
       "    </tr>\n",
       "  </thead>\n",
       "  <tbody>\n",
       "    <tr>\n",
       "      <th>0</th>\n",
       "      <td>193</td>\n",
       "      <td>Sr. Data Scientist</td>\n",
       "      <td>Avlino, Inc.</td>\n",
       "      <td>5+ years of relevant experience to work in a f...</td>\n",
       "      <td>hadoop, hive, r, python, java, pig, scala</td>\n",
       "      <td>1</td>\n",
       "      <td>1</td>\n",
       "      <td>without the need for visa  sponsorship now or ...</td>\n",
       "    </tr>\n",
       "    <tr>\n",
       "      <th>1</th>\n",
       "      <td>192</td>\n",
       "      <td>Data Scientist/AI Practitioner</td>\n",
       "      <td>Avanade</td>\n",
       "      <td>5 years’ experience with one or more of follow...</td>\n",
       "      <td>spark, r, python, excel, spss, sas</td>\n",
       "      <td>0</td>\n",
       "      <td>0</td>\n",
       "      <td></td>\n",
       "    </tr>\n",
       "    <tr>\n",
       "      <th>2</th>\n",
       "      <td>191</td>\n",
       "      <td>Data Scientist</td>\n",
       "      <td>Robert Half Technology</td>\n",
       "      <td></td>\n",
       "      <td>sql, excel</td>\n",
       "      <td>0</td>\n",
       "      <td>0</td>\n",
       "      <td></td>\n",
       "    </tr>\n",
       "    <tr>\n",
       "      <th>3</th>\n",
       "      <td>190</td>\n",
       "      <td>Research Scientist – Novel Hybrid Simulation M...</td>\n",
       "      <td>Siemens AG</td>\n",
       "      <td>170 years, pioneering technologies and the bus...</td>\n",
       "      <td>php, matlab, r, python, java, pandas, c++</td>\n",
       "      <td>1</td>\n",
       "      <td>0</td>\n",
       "      <td>opportunities to submit information regarding ...</td>\n",
       "    </tr>\n",
       "    <tr>\n",
       "      <th>4</th>\n",
       "      <td>189</td>\n",
       "      <td>Data Scientist - Predictive Modeler</td>\n",
       "      <td>Predictive Modeler job</td>\n",
       "      <td>Minimum 5+ years of experience in programming,...</td>\n",
       "      <td>sql, r, spss, sas</td>\n",
       "      <td>0</td>\n",
       "      <td>1</td>\n",
       "      <td></td>\n",
       "    </tr>\n",
       "  </tbody>\n",
       "</table>\n",
       "</div>"
      ],
      "text/plain": [
       "    id                                           position  \\\n",
       "0  193                                 Sr. Data Scientist   \n",
       "1  192                     Data Scientist/AI Practitioner   \n",
       "2  191                                     Data Scientist   \n",
       "3  190  Research Scientist – Novel Hybrid Simulation M...   \n",
       "4  189                Data Scientist - Predictive Modeler   \n",
       "\n",
       "                  company                                              years  \\\n",
       "0            Avlino, Inc.  5+ years of relevant experience to work in a f...   \n",
       "1                 Avanade  5 years’ experience with one or more of follow...   \n",
       "2  Robert Half Technology                                                      \n",
       "3              Siemens AG  170 years, pioneering technologies and the bus...   \n",
       "4  Predictive Modeler job  Minimum 5+ years of experience in programming,...   \n",
       "\n",
       "                                      skills  phd  master  \\\n",
       "0  hadoop, hive, r, python, java, pig, scala    1       1   \n",
       "1         spark, r, python, excel, spss, sas    0       0   \n",
       "2                                 sql, excel    0       0   \n",
       "3  php, matlab, r, python, java, pandas, c++    1       0   \n",
       "4                          sql, r, spss, sas    0       1   \n",
       "\n",
       "                                         sponsorinfo  \n",
       "0  without the need for visa  sponsorship now or ...  \n",
       "1                                                     \n",
       "2                                                     \n",
       "3  opportunities to submit information regarding ...  \n",
       "4                                                     "
      ]
     },
     "execution_count": 51,
     "metadata": {},
     "output_type": "execute_result"
    }
   ],
   "source": [
    "df.drop(['link','skills_count'],axis=1).head()"
   ]
  }
 ],
 "metadata": {
  "kernelspec": {
   "display_name": "Python 2",
   "language": "python",
   "name": "python2"
  },
  "language_info": {
   "codemirror_mode": {
    "name": "ipython",
    "version": 2
   },
   "file_extension": ".py",
   "mimetype": "text/x-python",
   "name": "python",
   "nbconvert_exporter": "python",
   "pygments_lexer": "ipython2",
   "version": "2.7.14"
  }
 },
 "nbformat": 4,
 "nbformat_minor": 2
}
