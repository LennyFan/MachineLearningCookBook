{
 "cells": [
  {
   "cell_type": "code",
   "execution_count": 230,
   "metadata": {
    "collapsed": true
   },
   "outputs": [],
   "source": [
    "import numpy as np\n",
    "import pandas as pd\n",
    "#from scipy.misc import logsumexp"
   ]
  },
  {
   "cell_type": "markdown",
   "metadata": {},
   "source": [
    "# Posterior"
   ]
  },
  {
   "cell_type": "code",
   "execution_count": 221,
   "metadata": {
    "collapsed": false
   },
   "outputs": [],
   "source": [
    "class HMM_Algorithm(object):\n",
    "    \n",
    "    def __init__(self, transition, emission, obs ):\n",
    "        \n",
    "        self.trans = transition\n",
    "        self.emiss = emission\n",
    "        self.obs = obs\n",
    "        \n",
    "        self.alpha_set = pd.DataFrame(list(self.emiss.T[obs[0]]), index = trans.index, columns=[0] )\n",
    "        self.beta_set  = pd.DataFrame(np.zeros(len(trans)), index = trans.index, columns=[len(obs)-1] )\n",
    "        self.joint_prob = pd.DataFrame(np.zeros(len(trans)) , index = trans.index, columns=[len(obs)-1] )\n",
    "        self.total_prob_of_data = None\n",
    "        \n",
    "        ### expected count\n",
    "        self.expected_emiss = pd.DataFrame( -float('inf'), index = self.emiss.index ,columns = self.emiss.columns)\n",
    "        self.expected_trans = pd.DataFrame( -float('inf'), index = self.trans.index ,columns = self.trans.columns)\n",
    "    \n",
    "    def forward(self):\n",
    "        \n",
    "        for i in xrange(1,len(obs)) :            \n",
    "            # log probability (tag,tag)\n",
    "            log_prob = ((self.trans + self.alpha_set[i-1].T).T + self.emiss.T[obs[i]].T).T \n",
    "            self.alpha_set[i] = np.log(np.exp(log_prob.T - log_prob.max(1)).T.sum(1)) + log_prob.max(1)\n",
    "            \n",
    "        ### update joint probability\n",
    "        self.joint_prob[len(obs)-1] += self.alpha_set[len(obs)-1]\n",
    "        \n",
    "        ### update total_prob_of_data\n",
    "        self.total_prob_of_data = np.log(np.exp(self.joint_prob).sum(0)[len(obs)-1])\n",
    "        \n",
    "        ### update expected emiss\n",
    "        log_expected_count_combine = pd.concat([self.expected_emiss.T[self.obs[-1]], self.joint_prob[len(obs)-1]],axis=1).T\n",
    "        log_count_max = log_expected_count_combine.max(0)\n",
    "        # logsumexp\n",
    "        self.expected_emiss.T[obs[-1]] = (\n",
    "                                          np.log(np.exp(log_expected_count_combine - log_count_max).sum(0)) \n",
    "                                          + log_count_max\n",
    "                                         )\n",
    "        \n",
    "        ### update expected trans\n",
    "        log_expected_count = ( \n",
    "                              np.array([self.alpha_set[len(obs)-2],]).T + [self.beta_set[len(obs)-1],] # alpha*beta\n",
    "                              + self.trans.T # trans prob\n",
    "                              + self.emiss.T[obs[-1]] # emiss prob\n",
    "                             ).T\n",
    "        log_count_max = pd.concat(\n",
    "                                  [pd.DataFrame(\n",
    "                                                pd.concat([self.expected_trans[h],log_expected_count[h]],axis = 1).max(1)\n",
    "                                                , columns=[h]\n",
    "                                               ) \n",
    "                                   for h in self.trans.columns\n",
    "                                  ]\n",
    "                                  , axis = 1\n",
    "                                 )\n",
    "        self.expected_trans = np.log( np.exp(self.expected_trans - log_count_max) \n",
    "                                     +np.exp(log_expected_count - log_count_max )) + log_count_max\n",
    "        \n",
    "        \n",
    "        \n",
    "    def backward(self):\n",
    "        i = len(self.obs)-2\n",
    "        while i >= 0 :     \n",
    "            # log probability (tag,tag)\n",
    "            log_prob = (self.trans.T + self.beta_set[i+1].T + self.emiss.T[self.obs[i+1]].T).T\n",
    "            self.beta_set[i] = np.log(np.exp(log_prob - log_prob.max(0)).sum(0)) + log_prob.max(0)\n",
    "            \n",
    "            ### update joint probability\n",
    "            self.joint_prob[i] = self.alpha_set[i] + self.beta_set[i] - self.total_prob_of_data\n",
    "            \n",
    "            ### update expected emiss\n",
    "            log_expected_count = pd.concat([self.expected_emiss.T[self.obs[i]], self.joint_prob[i]],axis=1).T\n",
    "            log_count_max = log_expected_count.max(0)       \n",
    "            # logsumexp\n",
    "            self.expected_emiss.T[obs[i]] = (\n",
    "                                              np.log(np.exp(log_expected_count - log_count_max).sum(0)) \n",
    "                                              + log_count_max\n",
    "                                             )\n",
    "\n",
    "            ### update expected trans\n",
    "            if i > 0:\n",
    "                log_expected_count = ( \n",
    "                                      np.array([self.alpha_set[i-1],]).T + [self.beta_set[i],] # alpha*beta\n",
    "                                      + self.trans.T # trans prob\n",
    "                                      + self.emiss.T[obs[i]] # emiss prob\n",
    "                                     ).T\n",
    "                log_count_max = pd.concat(\n",
    "                                          [pd.DataFrame(\n",
    "                                                        pd.concat([self.expected_trans[h],log_expected_count[h]],axis = 1).max(1)\n",
    "                                                        , columns=[h]\n",
    "                                                       ) \n",
    "                                           for h in self.trans.columns\n",
    "                                          ]\n",
    "                                          , axis = 1\n",
    "                                         )\n",
    "                self.expected_trans = np.log( np.exp(self.expected_trans - log_count_max) \n",
    "                                             +np.exp(log_expected_count - log_count_max )) + log_count_max\n",
    "            \n",
    "            \n",
    "            i -= 1\n",
    "    \n",
    "        \n",
    "    def E_step(self):\n",
    "        self.forward()\n",
    "        self.backward()\n",
    "        \n",
    "        \n",
    "    def M_step(self):\n",
    "        # new emission probability\n",
    "        total = (np.log(np.exp(self.joint_prob.T - self.joint_prob.max(1)).sum(0)) + self.joint_prob.max(1)).T\n",
    "        self.new_emiss = self.expected_emiss - total\n",
    "        # new transition probability\n",
    "        total = np.log(np.exp(self.expected_trans - self.expected_trans.max(0)).sum(0)) + self.expected_trans.max(0)\n",
    "        self.new_trans = self.expected_trans - total\n",
    "        "
   ]
  },
  {
   "cell_type": "code",
   "execution_count": 222,
   "metadata": {
    "collapsed": true
   },
   "outputs": [],
   "source": [
    "trans = np.log(pd.DataFrame([[0.7,0.3],[0.3,0.7]], index = [\"H\",\"C\"], columns=[\"H\",\"C\"] ))\n",
    "emiss = np.log(pd.DataFrame([[0.7,0.1],[0.2,0.2],[0.1,0.7]], index = [1,2,3], columns=[\"H\",\"C\"] ))\n",
    "obs = [2,1,2,3]"
   ]
  },
  {
   "cell_type": "code",
   "execution_count": 229,
   "metadata": {
    "collapsed": false
   },
   "outputs": [],
   "source": [
    "test = HMM_Algorithm( trans,emiss,obs)\n",
    "test.E_step()\n",
    "test.M_step()"
   ]
  },
  {
   "cell_type": "markdown",
   "metadata": {},
   "source": [
    "# Viterbi"
   ]
  }
 ],
 "metadata": {
  "kernelspec": {
   "display_name": "Python 2",
   "language": "python",
   "name": "python2"
  },
  "language_info": {
   "codemirror_mode": {
    "name": "ipython",
    "version": 2
   },
   "file_extension": ".py",
   "mimetype": "text/x-python",
   "name": "python",
   "nbconvert_exporter": "python",
   "pygments_lexer": "ipython2",
   "version": "2.7.13"
  }
 },
 "nbformat": 4,
 "nbformat_minor": 2
}
