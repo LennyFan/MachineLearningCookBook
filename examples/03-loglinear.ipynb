{
 "cells": [
  {
   "cell_type": "markdown",
   "metadata": {},
   "source": [
    "### 12-31-17\n",
    "\n",
    "- #### Q: the result scale will be affected by the sentence length and iteration in training process ?\n",
    "\n",
    "\n",
    "### 12-30-17\n",
    "\n",
    "- start\n",
    "\n",
    "- finish bigram model in english and spanish"
   ]
  },
  {
   "cell_type": "code",
   "execution_count": 1,
   "metadata": {},
   "outputs": [
    {
     "name": "stdout",
     "output_type": "stream",
     "text": [
      "Populating the interactive namespace from numpy and matplotlib\n"
     ]
    }
   ],
   "source": [
    "import numpy as np\n",
    "import pandas as pd\n",
    "%pylab inline \n",
    "from scipy.stats import norm as gaussian \n",
    "from scipy.misc import logsumexp"
   ]
  },
  {
   "cell_type": "markdown",
   "metadata": {},
   "source": [
    "# sample\n",
    "\n",
    "- Eng\n",
    "\n",
    "A story in the Daily Mail said that just three per cent of people in the UK know the words to Auld Lang Syne, the song traditionally sung at the turn of the New Year.\n",
    "Research by Sainsbury's shows the majority can sing the chorus and first few lines at best, but 42 per cent do not know a single word.\n",
    "A spokesman for Sainsbury's commented : “We want everyone to have a great New Year's Eve and singing Auld Lang Syne - or Old Land Sign as some people thought - is as much a part of our celebrations as a glass of fizz at midnight.\n",
    "\n",
    "- Span\n",
    "\n",
    "Y es que aun cuando las bitcoins son uno se los temas más nombrados este final de ano y a en 10 horas se pueden reportar mas de 184 mil transacciones en el mundo, muchos pereiranos desconfían.\n",
    "En esta ciudad donde está el primer cajero en Colombia por fuera de Bogota, algunos ciudadanos temen que, como con las piramides, su platica termine intervenida y perdida.\n",
    "\"La verdad es que no es confiable algo que no tiene el respaldo de una autoridad y por eso me abstengo de usarlas\", dijo una de las ciudadanas consultadas."
   ]
  },
  {
   "cell_type": "code",
   "execution_count": 129,
   "metadata": {},
   "outputs": [],
   "source": [
    "eng_test = \"A story in the Daily Mail said that just three per cent of people in the UK know the words to Auld Lang Syne, the song traditionally sung at the turn of the New Year. Research by Sainsbury's shows the majority can sing the chorus and first few lines at best, but 42 per cent do not know a single word. A spokesman for Sainsbury's commented : “We want everyone to have a great New Year's Eve and singing Auld Lang Syne - or Old Land Sign as some people thought - is as much a part of our celebrations as a glass of fizz at midnight. \""
   ]
  },
  {
   "cell_type": "code",
   "execution_count": 130,
   "metadata": {
    "collapsed": true
   },
   "outputs": [],
   "source": [
    "span_test = \"Y es que aun cuando las bitcoins son uno se los temas más nombrados este final de ano y a en 10 horas se pueden reportar mas de 184 mil transacciones en el mundo, muchos pereiranos desconfían. En esta ciudad donde está el primer cajero en Colombia por fuera de Bogota, algunos ciudadanos temen que, como con las piramides, su platica termine intervenida y perdida. La verdad es que no es confiable algo que no tiene el respaldo de una autoridad y por eso me abstengo de usarlas, dijo una de las ciudadanas consultadas.\""
   ]
  },
  {
   "cell_type": "markdown",
   "metadata": {},
   "source": [
    "## Char index"
   ]
  },
  {
   "cell_type": "code",
   "execution_count": 156,
   "metadata": {},
   "outputs": [
    {
     "data": {
      "text/plain": [
       "0"
      ]
     },
     "execution_count": 156,
     "metadata": {},
     "output_type": "execute_result"
    }
   ],
   "source": [
    "ord(\"a\".lower()) - 97"
   ]
  },
  {
   "cell_type": "markdown",
   "metadata": {},
   "source": [
    "## Algorithm "
   ]
  },
  {
   "cell_type": "code",
   "execution_count": 190,
   "metadata": {},
   "outputs": [],
   "source": [
    "def loglinear_birgram(sentence, w = None, reg = None):\n",
    "    \n",
    "    i = 0\n",
    "    maxIter = 40\n",
    "    alpha, count = 0.1, 0\n",
    "    \n",
    "    if w == None:\n",
    "        w1 = np.zeros(27)\n",
    "        w2 = np.zeros((27,27))\n",
    "    \n",
    "    prev = 26\n",
    "    \n",
    "    while (i < maxIter) : # and abs(sum(w)) < predictors*5 :\n",
    "        i += 1\n",
    "           \n",
    "        for char in sentence:\n",
    "            if char.isalpha():\n",
    "                cur = ord(char.lower())-97\n",
    "            elif char == \" \":\n",
    "                cur = 26\n",
    "            else:\n",
    "                continue\n",
    "            \n",
    "            # get total probability\n",
    "            total = sum(np.exp( w1 + w2[prev] ))\n",
    "            #print total\n",
    "            obs_w1 = np.array([0.0 if j != cur else 1 for j in xrange(27) ])\n",
    "            obs_w2 = np.zeros((27,27))\n",
    "            obs_w2[prev][cur] = 1.0\n",
    "            \n",
    "            w1 = w1 + alpha*( obs_w1 -  np.exp( w1 + np.sum(w2.T, axis = 0))/total )\n",
    "            w2 = w2 + alpha*( obs_w2 -  np.exp( w1 + np.sum(w2.T, axis = 0))/total )\n",
    "            \n",
    "            alpha /= (1 + alpha**2) # arctangent convergence\n",
    "            prev = cur\n",
    "    \n",
    "    return w1, w2\n",
    "    "
   ]
  },
  {
   "cell_type": "code",
   "execution_count": 191,
   "metadata": {
    "scrolled": false
   },
   "outputs": [
    {
     "data": {
      "text/plain": [
       "array([ 14.32116704,   2.12093948,   2.87594885,   5.14897324,\n",
       "        16.22412201,   2.85193702,   4.64388527,   6.72918852,\n",
       "         8.14280278,   0.70230458,   1.44220489,   5.90392772,\n",
       "         2.84514725,  12.88018249,  11.02061713,   2.91282632,\n",
       "        -0.0831937 ,   8.87182977,  13.20536238,  13.44158131,\n",
       "         4.77089236,   0.99183969,   3.64371171,  -0.0831937 ,\n",
       "         4.47273999,   0.61203154,   9.20924086])"
      ]
     },
     "execution_count": 191,
     "metadata": {},
     "output_type": "execute_result"
    }
   ],
   "source": [
    "w1_e,w2_e = loglinear_birgram(eng_test) \n",
    "w1_e"
   ]
  },
  {
   "cell_type": "code",
   "execution_count": 192,
   "metadata": {},
   "outputs": [
    {
     "data": {
      "text/plain": [
       "array([ 17.74139536,   2.21096285,   5.98338512,  11.06802838,\n",
       "        19.70393126,   1.43969494,   1.37918408,   0.70189382,\n",
       "         8.16995988,   0.64895677,  -0.08255073,   6.6555555 ,\n",
       "         5.28057493,  13.55996617,  14.2544962 ,   3.66097735,\n",
       "         1.43916422,   8.19063529,  13.57579479,   5.96039474,\n",
       "         7.85505957,   0.64566923,  -0.08255073,  -0.08255073,\n",
       "         1.46991026,  -0.08255073,  10.86246014])"
      ]
     },
     "execution_count": 192,
     "metadata": {},
     "output_type": "execute_result"
    }
   ],
   "source": [
    "w1_s,w2_s = loglinear_birgram(span_test) \n",
    "w1_s"
   ]
  },
  {
   "cell_type": "code",
   "execution_count": 193,
   "metadata": {
    "collapsed": true
   },
   "outputs": [],
   "source": [
    "test = \"hi my name is lenny\""
   ]
  },
  {
   "cell_type": "code",
   "execution_count": 194,
   "metadata": {},
   "outputs": [
    {
     "data": {
      "text/plain": [
       "1.1678599025378783e-117"
      ]
     },
     "execution_count": 194,
     "metadata": {},
     "output_type": "execute_result"
    }
   ],
   "source": [
    "p1 = 1.0\n",
    "prev = 26\n",
    "for char in test:\n",
    "    if char.isalpha():\n",
    "        cur = ord(char.lower())-97\n",
    "    elif char == \" \":\n",
    "        cur = 26\n",
    "    else:\n",
    "        continue\n",
    "\n",
    "\n",
    "    # get total probability\n",
    "    total = sum(np.exp( w1_e + w2_e[prev] ))\n",
    "    \n",
    "    p1 *= np.exp( w1_e[cur] + w2_e[prev][cur])/total \n",
    "    prev = cur\n",
    "p1"
   ]
  },
  {
   "cell_type": "code",
   "execution_count": 195,
   "metadata": {},
   "outputs": [
    {
     "data": {
      "text/plain": [
       "4.0252512127187546e-122"
      ]
     },
     "execution_count": 195,
     "metadata": {},
     "output_type": "execute_result"
    }
   ],
   "source": [
    "p2 = 1.0\n",
    "prev = 26\n",
    "for char in test:\n",
    "    if char.isalpha():\n",
    "        cur = ord(char.lower())-97\n",
    "    elif char == \" \":\n",
    "        cur = 26\n",
    "    else:\n",
    "        continue\n",
    "\n",
    "\n",
    "    # get total probability\n",
    "    total = sum(np.exp( w1_s + w2_s[prev] ))\n",
    "    \n",
    "    p2 *= np.exp( w1_s[cur] + w2_s[prev][cur])/total \n",
    "    prev = cur\n",
    "p2"
   ]
  },
  {
   "cell_type": "code",
   "execution_count": 196,
   "metadata": {
    "collapsed": true
   },
   "outputs": [],
   "source": [
    "test = \"hola mi nombre es Lenny\""
   ]
  },
  {
   "cell_type": "code",
   "execution_count": 197,
   "metadata": {},
   "outputs": [
    {
     "name": "stdout",
     "output_type": "stream",
     "text": [
      "the probability that the sentence is English: 6.84388825837e-126\n",
      "the probability that the sentence is Spanish: 3.17736938522e-124\n"
     ]
    }
   ],
   "source": [
    "p1, p2 = 1.0, 1.0\n",
    "prev = 26\n",
    "for char in test:\n",
    "    if char.isalpha():\n",
    "        cur = ord(char.lower())-97\n",
    "    elif char == \" \":\n",
    "        cur = 26\n",
    "    else:\n",
    "        continue\n",
    "\n",
    "\n",
    "    # get total probability\n",
    "    total1 = sum(np.exp( w1_e + w2_e[prev] ))\n",
    "    total2 = sum(np.exp( w1_s + w2_s[prev] ))\n",
    "    \n",
    "    p1 *= np.exp( w1_e[cur] + w2_e[prev][cur])/total1 \n",
    "    p2 *= np.exp( w1_s[cur] + w2_s[prev][cur])/total2\n",
    "    \n",
    "    prev = cur\n",
    "print \"the probability that the sentence is English:\", p1\n",
    "print \"the probability that the sentence is Spanish:\", p2"
   ]
  },
  {
   "cell_type": "markdown",
   "metadata": {},
   "source": [
    "## Check probability"
   ]
  },
  {
   "cell_type": "code",
   "execution_count": 205,
   "metadata": {},
   "outputs": [
    {
     "data": {
      "text/plain": [
       "1.0000000000000004"
      ]
     },
     "execution_count": 205,
     "metadata": {},
     "output_type": "execute_result"
    }
   ],
   "source": [
    "a = 0\n",
    "for i in range(27):\n",
    "    total2 = sum(np.exp( w1_s + w2_s[prev] ))\n",
    "    a += np.exp( w1_s[i] + w2_s[prev][i])/total2\n",
    "a"
   ]
  }
 ],
 "metadata": {
  "kernelspec": {
   "display_name": "Python 2",
   "language": "python",
   "name": "python2"
  },
  "language_info": {
   "codemirror_mode": {
    "name": "ipython",
    "version": 2
   },
   "file_extension": ".py",
   "mimetype": "text/x-python",
   "name": "python",
   "nbconvert_exporter": "python",
   "pygments_lexer": "ipython2",
   "version": "2.7.13"
  }
 },
 "nbformat": 4,
 "nbformat_minor": 2
}
