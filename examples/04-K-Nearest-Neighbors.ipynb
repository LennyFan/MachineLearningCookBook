{
 "cells": [
  {
   "cell_type": "markdown",
   "metadata": {},
   "source": [
    "# sklearn example\n",
    "\n",
    "> Kaggle: Climate Change: Earth Surface Temperature Data\n",
    "\n",
    "> https://www.kaggle.com/berkeleyearth/climate-change-earth-surface-temperature-data\n",
    "\n",
    "> **Classify Developed/Developing Countries**\n",
    "\n"
   ]
  },
  {
   "cell_type": "code",
   "execution_count": 3,
   "metadata": {
    "collapsed": true
   },
   "outputs": [],
   "source": [
    "import pandas as pd\n",
    "import numpy as np\n",
    "import matplotlib.pyplot as plt\n",
    "import seaborn as sns\n",
    "import cufflinks as cf\n",
    "%matplotlib inline"
   ]
  },
  {
   "cell_type": "code",
   "execution_count": 13,
   "metadata": {
    "collapsed": true
   },
   "outputs": [],
   "source": [
    "cf.offline = True\n",
    "sns.set_style('whitegrid')"
   ]
  },
  {
   "cell_type": "code",
   "execution_count": 32,
   "metadata": {
    "collapsed": true
   },
   "outputs": [],
   "source": [
    "df = pd.read_csv('data/GlobalLandTemperaturesByCountry.csv')"
   ]
  },
  {
   "cell_type": "code",
   "execution_count": 33,
   "metadata": {
    "collapsed": false
   },
   "outputs": [
    {
     "data": {
      "text/html": [
       "<div>\n",
       "<style scoped>\n",
       "    .dataframe tbody tr th:only-of-type {\n",
       "        vertical-align: middle;\n",
       "    }\n",
       "\n",
       "    .dataframe tbody tr th {\n",
       "        vertical-align: top;\n",
       "    }\n",
       "\n",
       "    .dataframe thead th {\n",
       "        text-align: right;\n",
       "    }\n",
       "</style>\n",
       "<table border=\"1\" class=\"dataframe\">\n",
       "  <thead>\n",
       "    <tr style=\"text-align: right;\">\n",
       "      <th></th>\n",
       "      <th>dt</th>\n",
       "      <th>AverageTemperature</th>\n",
       "      <th>AverageTemperatureUncertainty</th>\n",
       "      <th>Country</th>\n",
       "    </tr>\n",
       "  </thead>\n",
       "  <tbody>\n",
       "    <tr>\n",
       "      <th>0</th>\n",
       "      <td>1743-11-01</td>\n",
       "      <td>4.384</td>\n",
       "      <td>2.294</td>\n",
       "      <td>Åland</td>\n",
       "    </tr>\n",
       "    <tr>\n",
       "      <th>1</th>\n",
       "      <td>1743-12-01</td>\n",
       "      <td>NaN</td>\n",
       "      <td>NaN</td>\n",
       "      <td>Åland</td>\n",
       "    </tr>\n",
       "    <tr>\n",
       "      <th>2</th>\n",
       "      <td>1744-01-01</td>\n",
       "      <td>NaN</td>\n",
       "      <td>NaN</td>\n",
       "      <td>Åland</td>\n",
       "    </tr>\n",
       "    <tr>\n",
       "      <th>3</th>\n",
       "      <td>1744-02-01</td>\n",
       "      <td>NaN</td>\n",
       "      <td>NaN</td>\n",
       "      <td>Åland</td>\n",
       "    </tr>\n",
       "    <tr>\n",
       "      <th>4</th>\n",
       "      <td>1744-03-01</td>\n",
       "      <td>NaN</td>\n",
       "      <td>NaN</td>\n",
       "      <td>Åland</td>\n",
       "    </tr>\n",
       "  </tbody>\n",
       "</table>\n",
       "</div>"
      ],
      "text/plain": [
       "           dt  AverageTemperature  AverageTemperatureUncertainty Country\n",
       "0  1743-11-01               4.384                          2.294   Åland\n",
       "1  1743-12-01                 NaN                            NaN   Åland\n",
       "2  1744-01-01                 NaN                            NaN   Åland\n",
       "3  1744-02-01                 NaN                            NaN   Åland\n",
       "4  1744-03-01                 NaN                            NaN   Åland"
      ]
     },
     "execution_count": 33,
     "metadata": {},
     "output_type": "execute_result"
    }
   ],
   "source": [
    "df.head()"
   ]
  },
  {
   "cell_type": "markdown",
   "metadata": {},
   "source": [
    "### impute data"
   ]
  },
  {
   "cell_type": "code",
   "execution_count": 34,
   "metadata": {
    "collapsed": false
   },
   "outputs": [
    {
     "data": {
      "text/plain": [
       "<matplotlib.axes._subplots.AxesSubplot at 0x122559990>"
      ]
     },
     "execution_count": 34,
     "metadata": {},
     "output_type": "execute_result"
    },
    {
     "data": {
      "image/png": "[encoded data removed]",
      "text/plain": [
       "<matplotlib.figure.Figure at 0x122559390>"
      ]
     },
     "metadata": {},
     "output_type": "display_data"
    }
   ],
   "source": [
    "sns.heatmap(df.isnull(),yticklabels=False,cbar=False,cmap='viridis')"
   ]
  },
  {
   "cell_type": "code",
   "execution_count": 35,
   "metadata": {
    "collapsed": false
   },
   "outputs": [],
   "source": [
    "df.dt = pd.to_datetime(df.dt)"
   ]
  },
  {
   "cell_type": "code",
   "execution_count": 36,
   "metadata": {
    "collapsed": false
   },
   "outputs": [],
   "source": [
    "df['Month'] = df.dt.apply(lambda var: var.month)\n",
    "df['Year'] = df.dt.apply(lambda var: var.year)"
   ]
  },
  {
   "cell_type": "code",
   "execution_count": 89,
   "metadata": {
    "collapsed": false,
    "scrolled": true
   },
   "outputs": [],
   "source": [
    "helpbymontdf = df.groupby(['Country','Year','Month']).AverageTemperature.mean().interpolate(limit = 1)"
   ]
  },
  {
   "cell_type": "code",
   "execution_count": 90,
   "metadata": {
    "collapsed": false
   },
   "outputs": [],
   "source": [
    "helpbyyeardf = df.groupby(['Country','Month','Year']).AverageTemperature.mean().interpolate(limit = 1)"
   ]
  },
  {
   "cell_type": "code",
   "execution_count": 93,
   "metadata": {
    "collapsed": true
   },
   "outputs": [],
   "source": [
    "helpbyaverage = df.groupby(['Country','Month']).AverageTemperature.mean()"
   ]
  },
  {
   "cell_type": "code",
   "execution_count": 97,
   "metadata": {
    "collapsed": false
   },
   "outputs": [
    {
     "data": {
      "text/plain": [
       "Country     Month\n",
       "Antarctica  1       NaN\n",
       "            2       NaN\n",
       "            3       NaN\n",
       "            4       NaN\n",
       "            5       NaN\n",
       "            6       NaN\n",
       "            7       NaN\n",
       "            8       NaN\n",
       "            9       NaN\n",
       "            10      NaN\n",
       "            11      NaN\n",
       "            12      NaN\n",
       "Name: AverageTemperature, dtype: float64"
      ]
     },
     "execution_count": 97,
     "metadata": {},
     "output_type": "execute_result"
    }
   ],
   "source": [
    "helpbyaverage[helpbyaverage.isnull()]"
   ]
  },
  {
   "cell_type": "code",
   "execution_count": 120,
   "metadata": {
    "collapsed": false
   },
   "outputs": [
    {
     "data": {
      "text/html": [
       "<div>\n",
       "<style scoped>\n",
       "    .dataframe tbody tr th:only-of-type {\n",
       "        vertical-align: middle;\n",
       "    }\n",
       "\n",
       "    .dataframe tbody tr th {\n",
       "        vertical-align: top;\n",
       "    }\n",
       "\n",
       "    .dataframe thead th {\n",
       "        text-align: right;\n",
       "    }\n",
       "</style>\n",
       "<table border=\"1\" class=\"dataframe\">\n",
       "  <thead>\n",
       "    <tr style=\"text-align: right;\">\n",
       "      <th></th>\n",
       "      <th>dt</th>\n",
       "      <th>AverageTemperature</th>\n",
       "      <th>AverageTemperatureUncertainty</th>\n",
       "      <th>Country</th>\n",
       "      <th>Month</th>\n",
       "      <th>Year</th>\n",
       "    </tr>\n",
       "  </thead>\n",
       "  <tbody>\n",
       "  </tbody>\n",
       "</table>\n",
       "</div>"
      ],
      "text/plain": [
       "Empty DataFrame\n",
       "Columns: [dt, AverageTemperature, AverageTemperatureUncertainty, Country, Month, Year]\n",
       "Index: []"
      ]
     },
     "execution_count": 120,
     "metadata": {},
     "output_type": "execute_result"
    }
   ],
   "source": [
    "# drop Antarctica\n",
    "df.drop(df[df.Country == \"Antarctica\"].index,inplace=True)\n",
    "df[df.Country == \"Antarctica\"]"
   ]
  },
  {
   "cell_type": "code",
   "execution_count": 152,
   "metadata": {
    "collapsed": false
   },
   "outputs": [],
   "source": [
    "def impute_temp(cols):\n",
    "    \n",
    "    country, month, year, t = cols\n",
    "    if pd.isnull(t):\n",
    "        if pd.notnull(helpbymontdf.loc[country].loc[year].loc[month]):\n",
    "            return helpbymontdf.loc[country].loc[year].loc[month]\n",
    "        elif pd.notnull(helpbyyeardf.loc[country].loc[month].loc[year]):\n",
    "            return helpbyyeardf.loc[country].loc[month].loc[year]\n",
    "        else:\n",
    "            return helpbyaverage.loc[country,month]\n",
    "    else:\n",
    "        return t"
   ]
  },
  {
   "cell_type": "code",
   "execution_count": 154,
   "metadata": {
    "collapsed": false
   },
   "outputs": [],
   "source": [
    "df.AverageTemperature = df[['Country','Month','Year','AverageTemperature']].apply(impute_temp,axis = 1)"
   ]
  },
  {
   "cell_type": "code",
   "execution_count": 158,
   "metadata": {
    "collapsed": false
   },
   "outputs": [],
   "source": [
    "df.drop(\"AverageTemperatureUncertainty\",axis = 1,inplace=True)"
   ]
  },
  {
   "cell_type": "code",
   "execution_count": 159,
   "metadata": {
    "collapsed": false
   },
   "outputs": [
    {
     "data": {
      "text/plain": [
       "<matplotlib.axes._subplots.AxesSubplot at 0x15e6e5a50>"
      ]
     },
     "execution_count": 159,
     "metadata": {},
     "output_type": "execute_result"
    },
    {
     "data": {
      "image/png": "[encoded data removed]",
      "text/plain": [
       "<matplotlib.figure.Figure at 0x15e6e5710>"
      ]
     },
     "metadata": {},
     "output_type": "display_data"
    }
   ],
   "source": [
    "sns.heatmap(df.isnull(),yticklabels=False,cbar=False,cmap='viridis')"
   ]
  },
  {
   "cell_type": "code",
   "execution_count": 162,
   "metadata": {
    "collapsed": false
   },
   "outputs": [],
   "source": [
    "train = df.pivot_table(index = \"Country\", columns=[\"Year\",\"Month\"] , values = \"AverageTemperature\").dropna(axis = 1)"
   ]
  },
  {
   "cell_type": "code",
   "execution_count": 172,
   "metadata": {
    "collapsed": false
   },
   "outputs": [],
   "source": [
    "# get developing/developed from wiki\n",
    "developing = [\n",
    "'Albania'\n",
    ",'Algeria'\n",
    ",'Angola'\n",
    ",'Antigua and Barbuda'\n",
    ",'Azerbaijan'\n",
    ",'Afghanistan'\n",
    ",'Argentina'\n",
    ",'Bahrain'\n",
    ",'Bangladesh'\n",
    ",'Barbados'\n",
    ",'Belize'\n",
    ",'Benin'\n",
    ",'Bhutan'\n",
    ",'Bolivia'\n",
    ",'Bosnia and Herzegovina'\n",
    ",'Botswana'\n",
    ",'Brazil'\n",
    ",'Brunei'\n",
    ",'Bulgaria'\n",
    ",'Burkina Faso'\n",
    ",'Burundi'\n",
    ",'Cambodia'\n",
    ",'Cameroon'\n",
    ",'Cape Verde'\n",
    ",'Central African Republic'\n",
    ",'Chad'\n",
    ",'Ecuador'\n",
    ",'Egypt'\n",
    ",'El Salvador'\n",
    ",'Equatorial Guinea'\n",
    ",'Eritrea'\n",
    ",'Ethiopia'\n",
    ",'Fiji'\n",
    ",'Philippines'\n",
    ",'Gabon'\n",
    ",'The Gambia'\n",
    ",'Ghana'\n",
    ",'Grenada'\n",
    ",'Guatemala'\n",
    ",'Guinea'\n",
    ",'Guinea-Bissau'\n",
    ",'Guyana'\n",
    ",'Haiti'\n",
    ",'Honduras'\n",
    ",'India'\n",
    ",'Indonesia'\n",
    ",'Iran'\n",
    ",'Iraq'\n",
    ",'China'\n",
    ",'Malaysia'\n",
    ",'Mexico'\n",
    ",'Nigeria'\n",
    ",'Qatar']\n",
    "\n",
    "\n",
    "developed = [\n",
    "'Norway'\n",
    ",'Australia'\n",
    ",'Switzerland'\n",
    ",'Denmark'\n",
    ",'Netherland'\n",
    ",'Germany'\n",
    ",'Ireland'\n",
    ",'Canada'\n",
    ",'New Zealand'\n",
    ",'Liechtenstein'\n",
    ",'Sweden'\n",
    ",'United Kingdom (Europe)'\n",
    ",'United States'\n",
    ",'Iceland'\n",
    ",'Luxembourg'\n",
    ",'Japan'\n",
    ",'Belgium'\n",
    ",'France'\n",
    ",'Austria'\n",
    ",'Finland'\n",
    ",'Slovenia'\n",
    ",'Spain'\n",
    ",'Italy'\n",
    ",'Poland'\n",
    ",'Greece'\n",
    ",'Chile'\n",
    ",'Israel'\n",
    ",'Turkey'\n",
    "]"
   ]
  },
  {
   "cell_type": "code",
   "execution_count": 173,
   "metadata": {
    "collapsed": false,
    "scrolled": false
   },
   "outputs": [],
   "source": [
    "countrynotindata = set(developed+developing) - set(train.index)\n",
    "developed = list(set(developed) - countrynotindata)\n",
    "developing = list(set(developing) - countrynotindata)"
   ]
  },
  {
   "cell_type": "code",
   "execution_count": 175,
   "metadata": {
    "collapsed": false,
    "scrolled": false
   },
   "outputs": [],
   "source": [
    "train = train.loc[developed+developing]"
   ]
  },
  {
   "cell_type": "code",
   "execution_count": 178,
   "metadata": {
    "collapsed": false
   },
   "outputs": [],
   "source": [
    "train[\"dev\"] = [ 1 if var in developed else 0 for var in train.index ]"
   ]
  },
  {
   "cell_type": "code",
   "execution_count": 183,
   "metadata": {
    "collapsed": false
   },
   "outputs": [
    {
     "data": {
      "text/html": [
       "<script>requirejs.config({paths: { 'plotly': ['https://cdn.plot.ly/plotly-latest.min']},});if(!window.Plotly) {{require(['plotly'],function(plotly) {window.Plotly=plotly;});}}</script>"
      ],
      "text/vnd.plotly.v1+html": [
       "<script>requirejs.config({paths: { 'plotly': ['https://cdn.plot.ly/plotly-latest.min']},});if(!window.Plotly) {{require(['plotly'],function(plotly) {window.Plotly=plotly;});}}</script>"
      ]
     },
     "metadata": {},
     "output_type": "display_data"
    }
   ],
   "source": [
    "from plotly.offline import download_plotlyjs, init_notebook_mode, plot, iplot\n",
    "import plotly.graph_objs as go \n",
    "init_notebook_mode(connected=True)"
   ]
  },
  {
   "cell_type": "code",
   "execution_count": 199,
   "metadata": {
    "collapsed": false
   },
   "outputs": [
    {
     "data": {
      "application/vnd.plotly.v1+json": {
       "data": [
        {
         "colorscale": [
          "viridis"
         ],
         "locationmode": "country names",
         "locations": [
          "Canada",
          "Turkey",
          "Italy",
          "Luxembourg",
          "France",
          "Ireland",
          "Norway",
          "Israel",
          "Australia",
          "Iceland",
          "Austria",
          "Slovenia",
          "Germany",
          "Chile",
          "Belgium",
          "Spain",
          "Denmark",
          "Poland",
          "Finland",
          "United States",
          "Sweden",
          "Switzerland",
          "New Zealand",
          "Liechtenstein",
          "United Kingdom (Europe)",
          "Greece",
          "Japan",
          "Brazil",
          "Afghanistan",
          "Qatar",
          "Bangladesh",
          "Bhutan",
          "Eritrea",
          "Guinea",
          "Cambodia",
          "Ethiopia",
          "Angola",
          "Argentina",
          "Bolivia",
          "Cameroon",
          "Burkina Faso",
          "Ecuador",
          "Benin",
          "Bahrain",
          "Iran",
          "Algeria",
          "El Salvador",
          "Cape Verde",
          "Guatemala",
          "China",
          "Haiti",
          "Belize",
          "Nigeria",
          "Ghana",
          "Philippines",
          "Indonesia",
          "Central African Republic",
          "Albania",
          "Gabon",
          "Guyana",
          "Grenada",
          "Bulgaria",
          "Iraq",
          "Honduras",
          "Chad",
          "Equatorial Guinea",
          "Egypt",
          "Mexico",
          "India",
          "Azerbaijan",
          "Malaysia",
          "Burundi",
          "Fiji",
          "Botswana",
          "Barbados"
         ],
         "text": [
          "Canada",
          "Turkey",
          "Italy",
          "Luxembourg",
          "France",
          "Ireland",
          "Norway",
          "Israel",
          "Australia",
          "Iceland",
          "Austria",
          "Slovenia",
          "Germany",
          "Chile",
          "Belgium",
          "Spain",
          "Denmark",
          "Poland",
          "Finland",
          "United States",
          "Sweden",
          "Switzerland",
          "New Zealand",
          "Liechtenstein",
          "United Kingdom (Europe)",
          "Greece",
          "Japan",
          "Brazil",
          "Afghanistan",
          "Qatar",
          "Bangladesh",
          "Bhutan",
          "Eritrea",
          "Guinea",
          "Cambodia",
          "Ethiopia",
          "Angola",
          "Argentina",
          "Bolivia",
          "Cameroon",
          "Burkina Faso",
          "Ecuador",
          "Benin",
          "Bahrain",
          "Iran",
          "Algeria",
          "El Salvador",
          "Cape Verde",
          "Guatemala",
          "China",
          "Haiti",
          "Belize",
          "Nigeria",
          "Ghana",
          "Philippines",
          "Indonesia",
          "Central African Republic",
          "Albania",
          "Gabon",
          "Guyana",
          "Grenada",
          "Bulgaria",
          "Iraq",
          "Honduras",
          "Chad",
          "Equatorial Guinea",
          "Egypt",
          "Mexico",
          "India",
          "Azerbaijan",
          "Malaysia",
          "Burundi",
          "Fiji",
          "Botswana",
          "Barbados"
         ],
         "type": "choropleth",
         "z": [
          1,
          1,
          1,
          1,
          1,
          1,
          1,
          1,
          1,
          1,
          1,
          1,
          1,
          1,
          1,
          1,
          1,
          1,
          1,
          1,
          1,
          1,
          1,
          1,
          1,
          1,
          1,
          0,
          0,
          0,
          0,
          0,
          0,
          0,
          0,
          0,
          0,
          0,
          0,
          0,
          0,
          0,
          0,
          0,
          0,
          0,
          0,
          0,
          0,
          0,
          0,
          0,
          0,
          0,
          0,
          0,
          0,
          0,
          0,
          0,
          0,
          0,
          0,
          0,
          0,
          0,
          0,
          0,
          0,
          0,
          0,
          0,
          0,
          0,
          0
         ]
        }
       ],
       "layout": {
        "geo": {
         "lataxis": {
          "gridcolor": "rgb(102, 102, 102)",
          "showgrid": true
         },
         "lonaxis": {
          "gridcolor": "rgb(102, 102, 102)",
          "showgrid": true
         },
         "oceancolor": "rgb(0,255,255)",
         "projection": {
          "rotation": {
           "lat": 10,
           "lon": 60
          },
          "type": "orthographic"
         },
         "showframe": false,
         "showocean": true
        },
        "title": "Developed,Developing Countries"
       }
      },
      "text/html": [
       "<div id=\"42a4952a-55be-428d-a140-d90e3a22620a\" style=\"height: 525px; width: 100%;\" class=\"plotly-graph-div\"></div><script type=\"text/javascript\">require([\"plotly\"], function(Plotly) { window.PLOTLYENV=window.PLOTLYENV || {};window.PLOTLYENV.BASE_URL=\"https://plot.ly\";Plotly.newPlot(\"42a4952a-55be-428d-a140-d90e3a22620a\", [{\"colorscale\": [\"viridis\"], \"text\": [\"Canada\", \"Turkey\", \"Italy\", \"Luxembourg\", \"France\", \"Ireland\", \"Norway\", \"Israel\", \"Australia\", \"Iceland\", \"Austria\", \"Slovenia\", \"Germany\", \"Chile\", \"Belgium\", \"Spain\", \"Denmark\", \"Poland\", \"Finland\", \"United States\", \"Sweden\", \"Switzerland\", \"New Zealand\", \"Liechtenstein\", \"United Kingdom (Europe)\", \"Greece\", \"Japan\", \"Brazil\", \"Afghanistan\", \"Qatar\", \"Bangladesh\", \"Bhutan\", \"Eritrea\", \"Guinea\", \"Cambodia\", \"Ethiopia\", \"Angola\", \"Argentina\", \"Bolivia\", \"Cameroon\", \"Burkina Faso\", \"Ecuador\", \"Benin\", \"Bahrain\", \"Iran\", \"Algeria\", \"El Salvador\", \"Cape Verde\", \"Guatemala\", \"China\", \"Haiti\", \"Belize\", \"Nigeria\", \"Ghana\", \"Philippines\", \"Indonesia\", \"Central African Republic\", \"Albania\", \"Gabon\", \"Guyana\", \"Grenada\", \"Bulgaria\", \"Iraq\", \"Honduras\", \"Chad\", \"Equatorial Guinea\", \"Egypt\", \"Mexico\", \"India\", \"Azerbaijan\", \"Malaysia\", \"Burundi\", \"Fiji\", \"Botswana\", \"Barbados\"], \"locations\": [\"Canada\", \"Turkey\", \"Italy\", \"Luxembourg\", \"France\", \"Ireland\", \"Norway\", \"Israel\", \"Australia\", \"Iceland\", \"Austria\", \"Slovenia\", \"Germany\", \"Chile\", \"Belgium\", \"Spain\", \"Denmark\", \"Poland\", \"Finland\", \"United States\", \"Sweden\", \"Switzerland\", \"New Zealand\", \"Liechtenstein\", \"United Kingdom (Europe)\", \"Greece\", \"Japan\", \"Brazil\", \"Afghanistan\", \"Qatar\", \"Bangladesh\", \"Bhutan\", \"Eritrea\", \"Guinea\", \"Cambodia\", \"Ethiopia\", \"Angola\", \"Argentina\", \"Bolivia\", \"Cameroon\", \"Burkina Faso\", \"Ecuador\", \"Benin\", \"Bahrain\", \"Iran\", \"Algeria\", \"El Salvador\", \"Cape Verde\", \"Guatemala\", \"China\", \"Haiti\", \"Belize\", \"Nigeria\", \"Ghana\", \"Philippines\", \"Indonesia\", \"Central African Republic\", \"Albania\", \"Gabon\", \"Guyana\", \"Grenada\", \"Bulgaria\", \"Iraq\", \"Honduras\", \"Chad\", \"Equatorial Guinea\", \"Egypt\", \"Mexico\", \"India\", \"Azerbaijan\", \"Malaysia\", \"Burundi\", \"Fiji\", \"Botswana\", \"Barbados\"], \"type\": \"choropleth\", \"z\": [1, 1, 1, 1, 1, 1, 1, 1, 1, 1, 1, 1, 1, 1, 1, 1, 1, 1, 1, 1, 1, 1, 1, 1, 1, 1, 1, 0, 0, 0, 0, 0, 0, 0, 0, 0, 0, 0, 0, 0, 0, 0, 0, 0, 0, 0, 0, 0, 0, 0, 0, 0, 0, 0, 0, 0, 0, 0, 0, 0, 0, 0, 0, 0, 0, 0, 0, 0, 0, 0, 0, 0, 0, 0, 0], \"locationmode\": \"country names\"}], {\"geo\": {\"lonaxis\": {\"gridcolor\": \"rgb(102, 102, 102)\", \"showgrid\": true}, \"projection\": {\"rotation\": {\"lat\": 10, \"lon\": 60}, \"type\": \"orthographic\"}, \"lataxis\": {\"gridcolor\": \"rgb(102, 102, 102)\", \"showgrid\": true}, \"showframe\": false, \"showocean\": true, \"oceancolor\": \"rgb(0,255,255)\"}, \"title\": \"Developed,Developing Countries\"}, {\"linkText\": \"Export to plot.ly\", \"showLink\": true})});</script>"
      ],
      "text/vnd.plotly.v1+html": [
       "<div id=\"42a4952a-55be-428d-a140-d90e3a22620a\" style=\"height: 525px; width: 100%;\" class=\"plotly-graph-div\"></div><script type=\"text/javascript\">require([\"plotly\"], function(Plotly) { window.PLOTLYENV=window.PLOTLYENV || {};window.PLOTLYENV.BASE_URL=\"https://plot.ly\";Plotly.newPlot(\"42a4952a-55be-428d-a140-d90e3a22620a\", [{\"colorscale\": [\"viridis\"], \"text\": [\"Canada\", \"Turkey\", \"Italy\", \"Luxembourg\", \"France\", \"Ireland\", \"Norway\", \"Israel\", \"Australia\", \"Iceland\", \"Austria\", \"Slovenia\", \"Germany\", \"Chile\", \"Belgium\", \"Spain\", \"Denmark\", \"Poland\", \"Finland\", \"United States\", \"Sweden\", \"Switzerland\", \"New Zealand\", \"Liechtenstein\", \"United Kingdom (Europe)\", \"Greece\", \"Japan\", \"Brazil\", \"Afghanistan\", \"Qatar\", \"Bangladesh\", \"Bhutan\", \"Eritrea\", \"Guinea\", \"Cambodia\", \"Ethiopia\", \"Angola\", \"Argentina\", \"Bolivia\", \"Cameroon\", \"Burkina Faso\", \"Ecuador\", \"Benin\", \"Bahrain\", \"Iran\", \"Algeria\", \"El Salvador\", \"Cape Verde\", \"Guatemala\", \"China\", \"Haiti\", \"Belize\", \"Nigeria\", \"Ghana\", \"Philippines\", \"Indonesia\", \"Central African Republic\", \"Albania\", \"Gabon\", \"Guyana\", \"Grenada\", \"Bulgaria\", \"Iraq\", \"Honduras\", \"Chad\", \"Equatorial Guinea\", \"Egypt\", \"Mexico\", \"India\", \"Azerbaijan\", \"Malaysia\", \"Burundi\", \"Fiji\", \"Botswana\", \"Barbados\"], \"locations\": [\"Canada\", \"Turkey\", \"Italy\", \"Luxembourg\", \"France\", \"Ireland\", \"Norway\", \"Israel\", \"Australia\", \"Iceland\", \"Austria\", \"Slovenia\", \"Germany\", \"Chile\", \"Belgium\", \"Spain\", \"Denmark\", \"Poland\", \"Finland\", \"United States\", \"Sweden\", \"Switzerland\", \"New Zealand\", \"Liechtenstein\", \"United Kingdom (Europe)\", \"Greece\", \"Japan\", \"Brazil\", \"Afghanistan\", \"Qatar\", \"Bangladesh\", \"Bhutan\", \"Eritrea\", \"Guinea\", \"Cambodia\", \"Ethiopia\", \"Angola\", \"Argentina\", \"Bolivia\", \"Cameroon\", \"Burkina Faso\", \"Ecuador\", \"Benin\", \"Bahrain\", \"Iran\", \"Algeria\", \"El Salvador\", \"Cape Verde\", \"Guatemala\", \"China\", \"Haiti\", \"Belize\", \"Nigeria\", \"Ghana\", \"Philippines\", \"Indonesia\", \"Central African Republic\", \"Albania\", \"Gabon\", \"Guyana\", \"Grenada\", \"Bulgaria\", \"Iraq\", \"Honduras\", \"Chad\", \"Equatorial Guinea\", \"Egypt\", \"Mexico\", \"India\", \"Azerbaijan\", \"Malaysia\", \"Burundi\", \"Fiji\", \"Botswana\", \"Barbados\"], \"type\": \"choropleth\", \"z\": [1, 1, 1, 1, 1, 1, 1, 1, 1, 1, 1, 1, 1, 1, 1, 1, 1, 1, 1, 1, 1, 1, 1, 1, 1, 1, 1, 0, 0, 0, 0, 0, 0, 0, 0, 0, 0, 0, 0, 0, 0, 0, 0, 0, 0, 0, 0, 0, 0, 0, 0, 0, 0, 0, 0, 0, 0, 0, 0, 0, 0, 0, 0, 0, 0, 0, 0, 0, 0, 0, 0, 0, 0, 0, 0], \"locationmode\": \"country names\"}], {\"geo\": {\"lonaxis\": {\"gridcolor\": \"rgb(102, 102, 102)\", \"showgrid\": true}, \"projection\": {\"rotation\": {\"lat\": 10, \"lon\": 60}, \"type\": \"orthographic\"}, \"lataxis\": {\"gridcolor\": \"rgb(102, 102, 102)\", \"showgrid\": true}, \"showframe\": false, \"showocean\": true, \"oceancolor\": \"rgb(0,255,255)\"}, \"title\": \"Developed,Developing Countries\"}, {\"linkText\": \"Export to plot.ly\", \"showLink\": true})});</script>"
      ]
     },
     "metadata": {},
     "output_type": "display_data"
    }
   ],
   "source": [
    "data = dict(type = 'choropleth', # type of geographical plot\n",
    "            locations = train.index, # array/list \n",
    "            locationmode = 'country names', \n",
    "            colorscale= ['viridis'],\n",
    "            text= train.index, # correspond to each location\n",
    "            z=train.dev,# value represent the color\n",
    "            ) # title for colorbar\n",
    "layout = dict(\n",
    "    title = 'Developed,Developing Countries',\n",
    "    geo = dict(\n",
    "        showframe = False,\n",
    "        showocean = True,\n",
    "        oceancolor = 'rgb(0,255,255)',\n",
    "        projection = dict(\n",
    "        type = 'orthographic',\n",
    "            rotation = dict(\n",
    "                    lon = 60,\n",
    "                    lat = 10),\n",
    "        ),\n",
    "        lonaxis =  dict(\n",
    "                showgrid = True,\n",
    "                gridcolor = 'rgb(102, 102, 102)'\n",
    "            ),\n",
    "        lataxis = dict(\n",
    "                showgrid = True,\n",
    "                gridcolor = 'rgb(102, 102, 102)'\n",
    "                )\n",
    "            ),\n",
    "        )\n",
    "\n",
    "choromap = go.Figure(data = [data],layout = layout)\n",
    "#plot(choromap) > open a html page\n",
    "iplot(choromap)"
   ]
  },
  {
   "cell_type": "code",
   "execution_count": 201,
   "metadata": {
    "collapsed": false
   },
   "outputs": [
    {
     "data": {
      "text/html": [
       "<div>\n",
       "<style scoped>\n",
       "    .dataframe tbody tr th:only-of-type {\n",
       "        vertical-align: middle;\n",
       "    }\n",
       "\n",
       "    .dataframe tbody tr th {\n",
       "        vertical-align: top;\n",
       "    }\n",
       "\n",
       "    .dataframe thead tr th {\n",
       "        text-align: left;\n",
       "    }\n",
       "\n",
       "    .dataframe thead tr:last-of-type th {\n",
       "        text-align: right;\n",
       "    }\n",
       "</style>\n",
       "<table border=\"1\" class=\"dataframe\">\n",
       "  <thead>\n",
       "    <tr>\n",
       "      <th>Year</th>\n",
       "      <th colspan=\"10\" halign=\"left\">1948</th>\n",
       "      <th>...</th>\n",
       "      <th colspan=\"9\" halign=\"left\">2013</th>\n",
       "      <th>dev</th>\n",
       "    </tr>\n",
       "    <tr>\n",
       "      <th>Month</th>\n",
       "      <th>2</th>\n",
       "      <th>3</th>\n",
       "      <th>4</th>\n",
       "      <th>5</th>\n",
       "      <th>6</th>\n",
       "      <th>7</th>\n",
       "      <th>8</th>\n",
       "      <th>9</th>\n",
       "      <th>10</th>\n",
       "      <th>11</th>\n",
       "      <th>...</th>\n",
       "      <th>1</th>\n",
       "      <th>2</th>\n",
       "      <th>3</th>\n",
       "      <th>4</th>\n",
       "      <th>5</th>\n",
       "      <th>6</th>\n",
       "      <th>7</th>\n",
       "      <th>8</th>\n",
       "      <th>9</th>\n",
       "      <th></th>\n",
       "    </tr>\n",
       "    <tr>\n",
       "      <th>Country</th>\n",
       "      <th></th>\n",
       "      <th></th>\n",
       "      <th></th>\n",
       "      <th></th>\n",
       "      <th></th>\n",
       "      <th></th>\n",
       "      <th></th>\n",
       "      <th></th>\n",
       "      <th></th>\n",
       "      <th></th>\n",
       "      <th></th>\n",
       "      <th></th>\n",
       "      <th></th>\n",
       "      <th></th>\n",
       "      <th></th>\n",
       "      <th></th>\n",
       "      <th></th>\n",
       "      <th></th>\n",
       "      <th></th>\n",
       "      <th></th>\n",
       "      <th></th>\n",
       "    </tr>\n",
       "  </thead>\n",
       "  <tbody>\n",
       "    <tr>\n",
       "      <th>Canada</th>\n",
       "      <td>-23.930</td>\n",
       "      <td>-18.523</td>\n",
       "      <td>-9.325</td>\n",
       "      <td>3.185</td>\n",
       "      <td>9.907</td>\n",
       "      <td>13.652</td>\n",
       "      <td>11.928</td>\n",
       "      <td>6.880</td>\n",
       "      <td>-0.592</td>\n",
       "      <td>-9.631</td>\n",
       "      <td>...</td>\n",
       "      <td>-21.633</td>\n",
       "      <td>-18.896</td>\n",
       "      <td>-14.001</td>\n",
       "      <td>-7.849</td>\n",
       "      <td>2.926</td>\n",
       "      <td>10.800</td>\n",
       "      <td>13.333</td>\n",
       "      <td>12.632</td>\n",
       "      <td>7.9220</td>\n",
       "      <td>1</td>\n",
       "    </tr>\n",
       "    <tr>\n",
       "      <th>Turkey</th>\n",
       "      <td>2.496</td>\n",
       "      <td>2.185</td>\n",
       "      <td>9.032</td>\n",
       "      <td>14.983</td>\n",
       "      <td>19.381</td>\n",
       "      <td>22.858</td>\n",
       "      <td>23.334</td>\n",
       "      <td>18.465</td>\n",
       "      <td>13.004</td>\n",
       "      <td>6.040</td>\n",
       "      <td>...</td>\n",
       "      <td>2.103</td>\n",
       "      <td>4.820</td>\n",
       "      <td>7.630</td>\n",
       "      <td>12.102</td>\n",
       "      <td>17.522</td>\n",
       "      <td>20.862</td>\n",
       "      <td>23.335</td>\n",
       "      <td>23.839</td>\n",
       "      <td>11.1320</td>\n",
       "      <td>1</td>\n",
       "    </tr>\n",
       "    <tr>\n",
       "      <th>Italy</th>\n",
       "      <td>5.205</td>\n",
       "      <td>9.588</td>\n",
       "      <td>11.806</td>\n",
       "      <td>16.163</td>\n",
       "      <td>18.443</td>\n",
       "      <td>19.709</td>\n",
       "      <td>21.833</td>\n",
       "      <td>18.681</td>\n",
       "      <td>15.143</td>\n",
       "      <td>9.838</td>\n",
       "      <td>...</td>\n",
       "      <td>5.585</td>\n",
       "      <td>4.485</td>\n",
       "      <td>8.144</td>\n",
       "      <td>12.642</td>\n",
       "      <td>15.446</td>\n",
       "      <td>19.764</td>\n",
       "      <td>23.651</td>\n",
       "      <td>23.603</td>\n",
       "      <td>24.2875</td>\n",
       "      <td>1</td>\n",
       "    </tr>\n",
       "    <tr>\n",
       "      <th>Luxembourg</th>\n",
       "      <td>1.979</td>\n",
       "      <td>7.930</td>\n",
       "      <td>10.057</td>\n",
       "      <td>13.826</td>\n",
       "      <td>15.851</td>\n",
       "      <td>16.695</td>\n",
       "      <td>16.854</td>\n",
       "      <td>14.142</td>\n",
       "      <td>9.342</td>\n",
       "      <td>5.213</td>\n",
       "      <td>...</td>\n",
       "      <td>1.171</td>\n",
       "      <td>0.364</td>\n",
       "      <td>2.488</td>\n",
       "      <td>8.772</td>\n",
       "      <td>11.526</td>\n",
       "      <td>15.995</td>\n",
       "      <td>20.422</td>\n",
       "      <td>18.464</td>\n",
       "      <td>16.8520</td>\n",
       "      <td>1</td>\n",
       "    </tr>\n",
       "    <tr>\n",
       "      <th>France</th>\n",
       "      <td>7.527</td>\n",
       "      <td>12.170</td>\n",
       "      <td>12.622</td>\n",
       "      <td>15.763</td>\n",
       "      <td>17.360</td>\n",
       "      <td>18.368</td>\n",
       "      <td>19.092</td>\n",
       "      <td>16.851</td>\n",
       "      <td>13.418</td>\n",
       "      <td>10.368</td>\n",
       "      <td>...</td>\n",
       "      <td>7.235</td>\n",
       "      <td>6.385</td>\n",
       "      <td>9.041</td>\n",
       "      <td>12.320</td>\n",
       "      <td>13.763</td>\n",
       "      <td>17.750</td>\n",
       "      <td>21.817</td>\n",
       "      <td>20.366</td>\n",
       "      <td>13.8815</td>\n",
       "      <td>1</td>\n",
       "    </tr>\n",
       "  </tbody>\n",
       "</table>\n",
       "<p>5 rows × 789 columns</p>\n",
       "</div>"
      ],
      "text/plain": [
       "Year          1948                                                          \\\n",
       "Month            2       3       4       5       6       7       8       9   \n",
       "Country                                                                      \n",
       "Canada     -23.930 -18.523  -9.325   3.185   9.907  13.652  11.928   6.880   \n",
       "Turkey       2.496   2.185   9.032  14.983  19.381  22.858  23.334  18.465   \n",
       "Italy        5.205   9.588  11.806  16.163  18.443  19.709  21.833  18.681   \n",
       "Luxembourg   1.979   7.930  10.057  13.826  15.851  16.695  16.854  14.142   \n",
       "France       7.527  12.170  12.622  15.763  17.360  18.368  19.092  16.851   \n",
       "\n",
       "Year                       ...    2013                                  \\\n",
       "Month           10      11 ...       1       2       3       4       5   \n",
       "Country                    ...                                           \n",
       "Canada      -0.592  -9.631 ... -21.633 -18.896 -14.001  -7.849   2.926   \n",
       "Turkey      13.004   6.040 ...   2.103   4.820   7.630  12.102  17.522   \n",
       "Italy       15.143   9.838 ...   5.585   4.485   8.144  12.642  15.446   \n",
       "Luxembourg   9.342   5.213 ...   1.171   0.364   2.488   8.772  11.526   \n",
       "France      13.418  10.368 ...   7.235   6.385   9.041  12.320  13.763   \n",
       "\n",
       "Year                                        dev  \n",
       "Month            6       7       8        9      \n",
       "Country                                          \n",
       "Canada      10.800  13.333  12.632   7.9220   1  \n",
       "Turkey      20.862  23.335  23.839  11.1320   1  \n",
       "Italy       19.764  23.651  23.603  24.2875   1  \n",
       "Luxembourg  15.995  20.422  18.464  16.8520   1  \n",
       "France      17.750  21.817  20.366  13.8815   1  \n",
       "\n",
       "[5 rows x 789 columns]"
      ]
     },
     "execution_count": 201,
     "metadata": {},
     "output_type": "execute_result"
    }
   ],
   "source": [
    "train.head()"
   ]
  },
  {
   "cell_type": "markdown",
   "metadata": {},
   "source": [
    "## Standardize the Variables"
   ]
  },
  {
   "cell_type": "code",
   "execution_count": 202,
   "metadata": {
    "collapsed": true
   },
   "outputs": [],
   "source": [
    "from sklearn.preprocessing import StandardScaler"
   ]
  },
  {
   "cell_type": "code",
   "execution_count": 203,
   "metadata": {
    "collapsed": true
   },
   "outputs": [],
   "source": [
    "scaler = StandardScaler()"
   ]
  },
  {
   "cell_type": "code",
   "execution_count": 204,
   "metadata": {
    "collapsed": false
   },
   "outputs": [
    {
     "data": {
      "text/plain": [
       "StandardScaler(copy=True, with_mean=True, with_std=True)"
      ]
     },
     "execution_count": 204,
     "metadata": {},
     "output_type": "execute_result"
    }
   ],
   "source": [
    "scaler.fit(train.drop(\"dev\",axis = 1))"
   ]
  },
  {
   "cell_type": "code",
   "execution_count": 205,
   "metadata": {
    "collapsed": true
   },
   "outputs": [],
   "source": [
    "scaled_features = scaler.transform(train.drop(\"dev\",axis = 1))"
   ]
  },
  {
   "cell_type": "code",
   "execution_count": 208,
   "metadata": {
    "collapsed": false
   },
   "outputs": [],
   "source": [
    "df_feat = pd.DataFrame(scaled_features, columns = train.columns[:-1], index = train.index)"
   ]
  },
  {
   "cell_type": "code",
   "execution_count": 209,
   "metadata": {
    "collapsed": false
   },
   "outputs": [
    {
     "data": {
      "text/html": [
       "<div>\n",
       "<style scoped>\n",
       "    .dataframe tbody tr th:only-of-type {\n",
       "        vertical-align: middle;\n",
       "    }\n",
       "\n",
       "    .dataframe tbody tr th {\n",
       "        vertical-align: top;\n",
       "    }\n",
       "\n",
       "    .dataframe thead tr th {\n",
       "        text-align: left;\n",
       "    }\n",
       "\n",
       "    .dataframe thead tr:last-of-type th {\n",
       "        text-align: right;\n",
       "    }\n",
       "</style>\n",
       "<table border=\"1\" class=\"dataframe\">\n",
       "  <thead>\n",
       "    <tr>\n",
       "      <th>Year</th>\n",
       "      <th colspan=\"10\" halign=\"left\">1948</th>\n",
       "      <th>...</th>\n",
       "      <th>2012</th>\n",
       "      <th colspan=\"9\" halign=\"left\">2013</th>\n",
       "    </tr>\n",
       "    <tr>\n",
       "      <th>Month</th>\n",
       "      <th>2</th>\n",
       "      <th>3</th>\n",
       "      <th>4</th>\n",
       "      <th>5</th>\n",
       "      <th>6</th>\n",
       "      <th>7</th>\n",
       "      <th>8</th>\n",
       "      <th>9</th>\n",
       "      <th>10</th>\n",
       "      <th>11</th>\n",
       "      <th>...</th>\n",
       "      <th>12</th>\n",
       "      <th>1</th>\n",
       "      <th>2</th>\n",
       "      <th>3</th>\n",
       "      <th>4</th>\n",
       "      <th>5</th>\n",
       "      <th>6</th>\n",
       "      <th>7</th>\n",
       "      <th>8</th>\n",
       "      <th>9</th>\n",
       "    </tr>\n",
       "    <tr>\n",
       "      <th>Country</th>\n",
       "      <th></th>\n",
       "      <th></th>\n",
       "      <th></th>\n",
       "      <th></th>\n",
       "      <th></th>\n",
       "      <th></th>\n",
       "      <th></th>\n",
       "      <th></th>\n",
       "      <th></th>\n",
       "      <th></th>\n",
       "      <th></th>\n",
       "      <th></th>\n",
       "      <th></th>\n",
       "      <th></th>\n",
       "      <th></th>\n",
       "      <th></th>\n",
       "      <th></th>\n",
       "      <th></th>\n",
       "      <th></th>\n",
       "      <th></th>\n",
       "      <th></th>\n",
       "    </tr>\n",
       "  </thead>\n",
       "  <tbody>\n",
       "    <tr>\n",
       "      <th>Canada</th>\n",
       "      <td>-2.851056</td>\n",
       "      <td>-2.885545</td>\n",
       "      <td>-2.656654</td>\n",
       "      <td>-1.978990</td>\n",
       "      <td>-1.498131</td>\n",
       "      <td>-1.134062</td>\n",
       "      <td>-1.382129</td>\n",
       "      <td>-1.780955</td>\n",
       "      <td>-1.990830</td>\n",
       "      <td>-2.243347</td>\n",
       "      <td>...</td>\n",
       "      <td>-2.527801</td>\n",
       "      <td>-2.665006</td>\n",
       "      <td>-2.500490</td>\n",
       "      <td>-2.345458</td>\n",
       "      <td>-2.477259</td>\n",
       "      <td>-2.013061</td>\n",
       "      <td>-1.514159</td>\n",
       "      <td>-1.391147</td>\n",
       "      <td>-1.435732</td>\n",
       "      <td>-1.725378</td>\n",
       "    </tr>\n",
       "    <tr>\n",
       "      <th>Turkey</th>\n",
       "      <td>-0.832876</td>\n",
       "      <td>-1.122708</td>\n",
       "      <td>-0.840514</td>\n",
       "      <td>-0.585533</td>\n",
       "      <td>-0.214424</td>\n",
       "      <td>0.173512</td>\n",
       "      <td>0.233015</td>\n",
       "      <td>-0.253222</td>\n",
       "      <td>-0.527635</td>\n",
       "      <td>-0.830339</td>\n",
       "      <td>...</td>\n",
       "      <td>-0.753873</td>\n",
       "      <td>-0.852728</td>\n",
       "      <td>-0.707415</td>\n",
       "      <td>-0.638537</td>\n",
       "      <td>-0.571506</td>\n",
       "      <td>-0.325752</td>\n",
       "      <td>-0.144403</td>\n",
       "      <td>0.074054</td>\n",
       "      <td>0.203935</td>\n",
       "      <td>-1.245526</td>\n",
       "    </tr>\n",
       "    <tr>\n",
       "      <th>Italy</th>\n",
       "      <td>-0.625987</td>\n",
       "      <td>-0.492503</td>\n",
       "      <td>-0.566070</td>\n",
       "      <td>-0.446163</td>\n",
       "      <td>-0.341521</td>\n",
       "      <td>-0.273756</td>\n",
       "      <td>0.020467</td>\n",
       "      <td>-0.224737</td>\n",
       "      <td>-0.297437</td>\n",
       "      <td>-0.487884</td>\n",
       "      <td>...</td>\n",
       "      <td>-0.601535</td>\n",
       "      <td>-0.586872</td>\n",
       "      <td>-0.732743</td>\n",
       "      <td>-0.597977</td>\n",
       "      <td>-0.519924</td>\n",
       "      <td>-0.565739</td>\n",
       "      <td>-0.293875</td>\n",
       "      <td>0.120345</td>\n",
       "      <td>0.169406</td>\n",
       "      <td>0.721044</td>\n",
       "    </tr>\n",
       "    <tr>\n",
       "      <th>Luxembourg</th>\n",
       "      <td>-0.872360</td>\n",
       "      <td>-0.633645</td>\n",
       "      <td>-0.739106</td>\n",
       "      <td>-0.722185</td>\n",
       "      <td>-0.692732</td>\n",
       "      <td>-0.701850</td>\n",
       "      <td>-0.684584</td>\n",
       "      <td>-0.823303</td>\n",
       "      <td>-0.921738</td>\n",
       "      <td>-0.904907</td>\n",
       "      <td>...</td>\n",
       "      <td>-0.751089</td>\n",
       "      <td>-0.923887</td>\n",
       "      <td>-1.044316</td>\n",
       "      <td>-1.044297</td>\n",
       "      <td>-0.889593</td>\n",
       "      <td>-1.018895</td>\n",
       "      <td>-0.806955</td>\n",
       "      <td>-0.352674</td>\n",
       "      <td>-0.582467</td>\n",
       "      <td>-0.390463</td>\n",
       "    </tr>\n",
       "    <tr>\n",
       "      <th>France</th>\n",
       "      <td>-0.448653</td>\n",
       "      <td>-0.272701</td>\n",
       "      <td>-0.485339</td>\n",
       "      <td>-0.493407</td>\n",
       "      <td>-0.488266</td>\n",
       "      <td>-0.464225</td>\n",
       "      <td>-0.367672</td>\n",
       "      <td>-0.466063</td>\n",
       "      <td>-0.483081</td>\n",
       "      <td>-0.440096</td>\n",
       "      <td>...</td>\n",
       "      <td>-0.366222</td>\n",
       "      <td>-0.460892</td>\n",
       "      <td>-0.589092</td>\n",
       "      <td>-0.527194</td>\n",
       "      <td>-0.550682</td>\n",
       "      <td>-0.760296</td>\n",
       "      <td>-0.568045</td>\n",
       "      <td>-0.148319</td>\n",
       "      <td>-0.304191</td>\n",
       "      <td>-0.834513</td>\n",
       "    </tr>\n",
       "  </tbody>\n",
       "</table>\n",
       "<p>5 rows × 788 columns</p>\n",
       "</div>"
      ],
      "text/plain": [
       "Year            1948                                                    \\\n",
       "Month             2         3         4         5         6         7    \n",
       "Country                                                                  \n",
       "Canada     -2.851056 -2.885545 -2.656654 -1.978990 -1.498131 -1.134062   \n",
       "Turkey     -0.832876 -1.122708 -0.840514 -0.585533 -0.214424  0.173512   \n",
       "Italy      -0.625987 -0.492503 -0.566070 -0.446163 -0.341521 -0.273756   \n",
       "Luxembourg -0.872360 -0.633645 -0.739106 -0.722185 -0.692732 -0.701850   \n",
       "France     -0.448653 -0.272701 -0.485339 -0.493407 -0.488266 -0.464225   \n",
       "\n",
       "Year                                                  ...         2012  \\\n",
       "Month             8         9         10        11    ...           12   \n",
       "Country                                               ...                \n",
       "Canada     -1.382129 -1.780955 -1.990830 -2.243347    ...    -2.527801   \n",
       "Turkey      0.233015 -0.253222 -0.527635 -0.830339    ...    -0.753873   \n",
       "Italy       0.020467 -0.224737 -0.297437 -0.487884    ...    -0.601535   \n",
       "Luxembourg -0.684584 -0.823303 -0.921738 -0.904907    ...    -0.751089   \n",
       "France     -0.367672 -0.466063 -0.483081 -0.440096    ...    -0.366222   \n",
       "\n",
       "Year            2013                                                    \\\n",
       "Month             1         2         3         4         5         6    \n",
       "Country                                                                  \n",
       "Canada     -2.665006 -2.500490 -2.345458 -2.477259 -2.013061 -1.514159   \n",
       "Turkey     -0.852728 -0.707415 -0.638537 -0.571506 -0.325752 -0.144403   \n",
       "Italy      -0.586872 -0.732743 -0.597977 -0.519924 -0.565739 -0.293875   \n",
       "Luxembourg -0.923887 -1.044316 -1.044297 -0.889593 -1.018895 -0.806955   \n",
       "France     -0.460892 -0.589092 -0.527194 -0.550682 -0.760296 -0.568045   \n",
       "\n",
       "Year                                      \n",
       "Month             7         8         9   \n",
       "Country                                   \n",
       "Canada     -1.391147 -1.435732 -1.725378  \n",
       "Turkey      0.074054  0.203935 -1.245526  \n",
       "Italy       0.120345  0.169406  0.721044  \n",
       "Luxembourg -0.352674 -0.582467 -0.390463  \n",
       "France     -0.148319 -0.304191 -0.834513  \n",
       "\n",
       "[5 rows x 788 columns]"
      ]
     },
     "execution_count": 209,
     "metadata": {},
     "output_type": "execute_result"
    }
   ],
   "source": [
    "df_feat.head()"
   ]
  },
  {
   "cell_type": "markdown",
   "metadata": {},
   "source": [
    "## Train/Fit"
   ]
  },
  {
   "cell_type": "code",
   "execution_count": 210,
   "metadata": {
    "collapsed": true
   },
   "outputs": [],
   "source": [
    "from sklearn.cross_validation import train_test_split"
   ]
  },
  {
   "cell_type": "code",
   "execution_count": 286,
   "metadata": {
    "collapsed": true
   },
   "outputs": [],
   "source": [
    "X = df_feat #train.drop(\"dev\",axis = 1)\n",
    "y = train.dev\n",
    "X_train, X_test, y_train, y_test = train_test_split(X, y, test_size=0.35, random_state=101)"
   ]
  },
  {
   "cell_type": "code",
   "execution_count": 287,
   "metadata": {
    "collapsed": true
   },
   "outputs": [],
   "source": [
    "from sklearn.neighbors import KNeighborsClassifier"
   ]
  },
  {
   "cell_type": "code",
   "execution_count": 288,
   "metadata": {
    "collapsed": true
   },
   "outputs": [],
   "source": [
    "knn = KNeighborsClassifier(n_neighbors=1)"
   ]
  },
  {
   "cell_type": "code",
   "execution_count": 289,
   "metadata": {
    "collapsed": false
   },
   "outputs": [
    {
     "data": {
      "text/plain": [
       "KNeighborsClassifier(algorithm='auto', leaf_size=30, metric='minkowski',\n",
       "           metric_params=None, n_jobs=1, n_neighbors=1, p=2,\n",
       "           weights='uniform')"
      ]
     },
     "execution_count": 289,
     "metadata": {},
     "output_type": "execute_result"
    }
   ],
   "source": [
    "knn.fit(X_train,y_train)"
   ]
  },
  {
   "cell_type": "code",
   "execution_count": 290,
   "metadata": {
    "collapsed": true
   },
   "outputs": [],
   "source": [
    "pred = knn.predict(X_test)"
   ]
  },
  {
   "cell_type": "markdown",
   "metadata": {},
   "source": [
    "## Evaluate"
   ]
  },
  {
   "cell_type": "code",
   "execution_count": 291,
   "metadata": {
    "collapsed": true
   },
   "outputs": [],
   "source": [
    "from sklearn.metrics import classification_report, confusion_matrix"
   ]
  },
  {
   "cell_type": "code",
   "execution_count": 292,
   "metadata": {
    "collapsed": false
   },
   "outputs": [
    {
     "name": "stdout",
     "output_type": "stream",
     "text": [
      "[[13  1]\n",
      " [ 4  9]]\n",
      "             precision    recall  f1-score   support\n",
      "\n",
      "          0       0.76      0.93      0.84        14\n",
      "          1       0.90      0.69      0.78        13\n",
      "\n",
      "avg / total       0.83      0.81      0.81        27\n",
      "\n"
     ]
    }
   ],
   "source": [
    "print confusion_matrix(y_test,pred)\n",
    "print classification_report(y_test,pred)"
   ]
  },
  {
   "cell_type": "markdown",
   "metadata": {},
   "source": [
    "## Revisit\n",
    "\n",
    "> choose a better k"
   ]
  },
  {
   "cell_type": "code",
   "execution_count": 293,
   "metadata": {
    "collapsed": false
   },
   "outputs": [],
   "source": [
    "error_rate = []\n",
    "for i in range(1,21):\n",
    "    knn = KNeighborsClassifier(n_neighbors=i)\n",
    "    knn.fit(X_train,y_train)\n",
    "    pred = knn.predict(X_test)\n",
    "    error_rate.append(np.mean(pred != y_test))\n",
    "rst = pd.DataFrame(error_rate, index = range(1,21), columns=[\"K val\"])"
   ]
  },
  {
   "cell_type": "code",
   "execution_count": 294,
   "metadata": {
    "collapsed": false
   },
   "outputs": [
    {
     "data": {
      "text/plain": [
       "Text(0,0.5,u'Error Rate')"
      ]
     },
     "execution_count": 294,
     "metadata": {},
     "output_type": "execute_result"
    },
    {
     "data": {
      "image/png": "[encoded data removed]",
      "text/plain": [
       "<matplotlib.figure.Figure at 0x15e4971d0>"
      ]
     },
     "metadata": {},
     "output_type": "display_data"
    }
   ],
   "source": [
    "plt.figure(figsize=(10,6))\n",
    "plt.plot(rst,color='blue', linestyle='dashed', marker='o',\n",
    "         markerfacecolor='red', markersize=10)\n",
    "plt.title('Error Rate vs. K Value')\n",
    "plt.xlabel('K')\n",
    "plt.ylabel('Error Rate')"
   ]
  },
  {
   "cell_type": "code",
   "execution_count": 296,
   "metadata": {
    "collapsed": false
   },
   "outputs": [
    {
     "name": "stdout",
     "output_type": "stream",
     "text": [
      "WITH K=9\n",
      "\n",
      "\n",
      "[[14  0]\n",
      " [ 1 12]]\n",
      "\n",
      "\n",
      "             precision    recall  f1-score   support\n",
      "\n",
      "          0       0.93      1.00      0.97        14\n",
      "          1       1.00      0.92      0.96        13\n",
      "\n",
      "avg / total       0.97      0.96      0.96        27\n",
      "\n"
     ]
    }
   ],
   "source": [
    "knn = KNeighborsClassifier(n_neighbors=9)\n",
    "\n",
    "knn.fit(X_train,y_train)\n",
    "pred = knn.predict(X_test)\n",
    "\n",
    "print('WITH K=9')\n",
    "print('\\n')\n",
    "print(confusion_matrix(y_test,pred))\n",
    "print('\\n')\n",
    "print(classification_report(y_test,pred))"
   ]
  }
 ],
 "metadata": {
  "kernelspec": {
   "display_name": "Python 2",
   "language": "python",
   "name": "python2"
  },
  "language_info": {
   "codemirror_mode": {
    "name": "ipython",
    "version": 2
   },
   "file_extension": ".py",
   "mimetype": "text/x-python",
   "name": "python",
   "nbconvert_exporter": "python",
   "pygments_lexer": "ipython2",
   "version": "2.7.13"
  }
 },
 "nbformat": 4,
 "nbformat_minor": 2
}
